{
 "cells": [
  {
   "cell_type": "markdown",
   "metadata": {},
   "source": [
    "# 4.1 [Operators](https://docs.python.org/3.5/reference/lexical_analysis.html#operators)\n",
    "\n",
    "There are various operators available in Python. Operators usually come in symbols but in Python there are also operators that come in words. Let's take a look at some common operators."
   ]
  },
  {
   "cell_type": "markdown",
   "metadata": {},
   "source": [
    "## 4.1.1 Arithmetic Operators"
   ]
  },
  {
   "cell_type": "markdown",
   "metadata": {},
   "source": [
    "### ( `+` ) addition\n",
    "\n",
    "Adds values on either side of the operator. "
   ]
  },
  {
   "cell_type": "code",
   "execution_count": 1,
   "metadata": {
    "collapsed": false
   },
   "outputs": [
    {
     "name": "stdout",
     "output_type": "stream",
     "text": [
      "5\n"
     ]
    }
   ],
   "source": [
    "print(2 + 3)"
   ]
  },
  {
   "cell_type": "markdown",
   "metadata": {},
   "source": [
    "### ( `-` ) subtraction\n",
    "\n",
    "Subtracts right hand operand from left hand operand."
   ]
  },
  {
   "cell_type": "code",
   "execution_count": 2,
   "metadata": {
    "collapsed": false
   },
   "outputs": [
    {
     "name": "stdout",
     "output_type": "stream",
     "text": [
      "-1\n"
     ]
    }
   ],
   "source": [
    "print(2 - 3)"
   ]
  },
  {
   "cell_type": "markdown",
   "metadata": {},
   "source": [
    "### ( `*` ) multiplication\n",
    "\n",
    "Multiplies values on either side of the operator."
   ]
  },
  {
   "cell_type": "code",
   "execution_count": 3,
   "metadata": {
    "collapsed": false
   },
   "outputs": [
    {
     "name": "stdout",
     "output_type": "stream",
     "text": [
      "6\n"
     ]
    }
   ],
   "source": [
    "print(2 * 3)"
   ]
  },
  {
   "cell_type": "markdown",
   "metadata": {},
   "source": [
    "### ( `/` ) division\n",
    "\n",
    "Divides left hand operand by right hand operand.\n",
    "\n",
    "The `x / y` expression performs __\"true division\"__ in Python 3.x, and __\"classic division\"__ in Python 2.x."
   ]
  },
  {
   "cell_type": "code",
   "execution_count": 4,
   "metadata": {
    "collapsed": false
   },
   "outputs": [
    {
     "name": "stdout",
     "output_type": "stream",
     "text": [
      "1.5\n",
      "1.5\n"
     ]
    }
   ],
   "source": [
    "# Python 3.x\n",
    "print(3/2) # will print 1.5\n",
    "print(3/2.0) # will print 1.5"
   ]
  },
  {
   "cell_type": "code",
   "execution_count": 7,
   "metadata": {
    "collapsed": false
   },
   "outputs": [
    {
     "ename": "SyntaxError",
     "evalue": "Missing parentheses in call to 'print' (<ipython-input-7-9f964b05bb29>, line 2)",
     "output_type": "error",
     "traceback": [
      "\u001b[0;36m  File \u001b[0;32m\"<ipython-input-7-9f964b05bb29>\"\u001b[0;36m, line \u001b[0;32m2\u001b[0m\n\u001b[0;31m    print 3/2 # will print 1\u001b[0m\n\u001b[0m          ^\u001b[0m\n\u001b[0;31mSyntaxError\u001b[0m\u001b[0;31m:\u001b[0m Missing parentheses in call to 'print'\n"
     ]
    }
   ],
   "source": [
    "# Python 2.x\n",
    "print 3/2 # will print 1\n",
    "print 3/2.0 # will print 1.5"
   ]
  },
  {
   "cell_type": "markdown",
   "metadata": {},
   "source": [
    "### ( `//` ) floor division\n",
    "\n",
    "Also known as the ___integer division___. The division of operands will result to a quotient in which the digits after the decimal point are __removed__.\n",
    "\n",
    "In both Python 3.x and Python 2.x, the `x // y` floor division expression __always truncates__ fractional remainders."
   ]
  },
  {
   "cell_type": "code",
   "execution_count": 8,
   "metadata": {
    "collapsed": false
   },
   "outputs": [
    {
     "name": "stdout",
     "output_type": "stream",
     "text": [
      "1\n",
      "1.0\n"
     ]
    }
   ],
   "source": [
    "# Python 3.x\n",
    "print(3//2) # will print 1\n",
    "print(3//2.0) # will print 1.0"
   ]
  },
  {
   "cell_type": "code",
   "execution_count": 9,
   "metadata": {
    "collapsed": false
   },
   "outputs": [
    {
     "ename": "SyntaxError",
     "evalue": "Missing parentheses in call to 'print' (<ipython-input-9-28979678dd44>, line 2)",
     "output_type": "error",
     "traceback": [
      "\u001b[0;36m  File \u001b[0;32m\"<ipython-input-9-28979678dd44>\"\u001b[0;36m, line \u001b[0;32m2\u001b[0m\n\u001b[0;31m    print 3//2 # will print 1\u001b[0m\n\u001b[0m          ^\u001b[0m\n\u001b[0;31mSyntaxError\u001b[0m\u001b[0;31m:\u001b[0m Missing parentheses in call to 'print'\n"
     ]
    }
   ],
   "source": [
    "# Python 2.x\n",
    "print 3//2 # will print 1\n",
    "print 3//2.0 # will print 1.0"
   ]
  },
  {
   "cell_type": "markdown",
   "metadata": {},
   "source": [
    "### ( `%` ) modulus\n",
    "\n",
    "Divides left hand operand by right hand operand and ___returns the remainder___."
   ]
  },
  {
   "cell_type": "code",
   "execution_count": 10,
   "metadata": {
    "collapsed": false
   },
   "outputs": [
    {
     "name": "stdout",
     "output_type": "stream",
     "text": [
      "1\n"
     ]
    }
   ],
   "source": [
    "print(3 % 2)"
   ]
  },
  {
   "cell_type": "markdown",
   "metadata": {},
   "source": [
    "### ( `**` ) exponent\n",
    "\n",
    "Performs ___exponential (power)___ calculation on operators."
   ]
  },
  {
   "cell_type": "code",
   "execution_count": 11,
   "metadata": {
    "collapsed": false
   },
   "outputs": [
    {
     "name": "stdout",
     "output_type": "stream",
     "text": [
      "8\n"
     ]
    }
   ],
   "source": [
    "print(2**3)"
   ]
  },
  {
   "cell_type": "markdown",
   "metadata": {},
   "source": [
    "## 4.1.2 Assignment Operators\n",
    "\n",
    "\n",
    "### ( `=` ) equals\n",
    "\n",
    "Used for assigning the value of right operand to the left operand. \n",
    "\n",
    "For example:"
   ]
  },
  {
   "cell_type": "code",
   "execution_count": 13,
   "metadata": {
    "collapsed": false
   },
   "outputs": [
    {
     "name": "stdout",
     "output_type": "stream",
     "text": [
      "52.9\n"
     ]
    }
   ],
   "source": [
    "a = 40       # 40 was assigned to variable a\n",
    "\n",
    "b = 12.9     # 12.9 was assigned to variable b\n",
    "\n",
    "c = a + b    # a + b was assigned to variable c\n",
    "\n",
    "print(c)"
   ]
  },
  {
   "cell_type": "markdown",
   "metadata": {},
   "source": [
    "Go ahead and print c to see the result!"
   ]
  },
  {
   "cell_type": "code",
   "execution_count": 14,
   "metadata": {
    "collapsed": false
   },
   "outputs": [
    {
     "name": "stdout",
     "output_type": "stream",
     "text": [
      "52.9\n"
     ]
    }
   ],
   "source": [
    "a = 40\n",
    "b = 12.9\n",
    "c = a + b\n",
    "\n",
    "# Write your code below\n",
    "\n",
    "print(c)\n"
   ]
  },
  {
   "cell_type": "markdown",
   "metadata": {},
   "source": [
    "## 4.1.2.1 [Augmented Assignment](https://docs.python.org/3.5/reference/simple_stmts.html#augmented-assignment-statements)\n",
    "\n",
    "The assignment operator `=` can be augmented with arithmetic operators and used in combination instead of using mutiple statements.\n",
    "\n",
    "### ( `+=` ) add AND\n",
    "\n",
    "Adds right operand to the left operand and assign the result to left operand. \n",
    "\n",
    "For example:"
   ]
  },
  {
   "cell_type": "code",
   "execution_count": 16,
   "metadata": {
    "collapsed": true
   },
   "outputs": [],
   "source": [
    "c += a \n",
    "\n",
    "# is equivalent to:\n",
    "    \n",
    "c = c + a"
   ]
  },
  {
   "cell_type": "markdown",
   "metadata": {},
   "source": [
    "Try to print c."
   ]
  },
  {
   "cell_type": "code",
   "execution_count": 17,
   "metadata": {
    "collapsed": false
   },
   "outputs": [
    {
     "name": "stdout",
     "output_type": "stream",
     "text": [
      "25\n"
     ]
    }
   ],
   "source": [
    "a = 10\n",
    "c = 15\n",
    "\n",
    "c += a\n",
    "\n",
    "# Write your code below\n",
    "print(c)\n",
    "\n"
   ]
  },
  {
   "cell_type": "markdown",
   "metadata": {},
   "source": [
    "### ( `-=` ) subtract AND\n",
    "Subtracts the right operand from left and assigns subtraction to the left operand. \n",
    "\n",
    "For example:"
   ]
  },
  {
   "cell_type": "code",
   "execution_count": null,
   "metadata": {
    "collapsed": true
   },
   "outputs": [],
   "source": [
    "c -= a \n",
    "\n",
    "#is equivalent to:\n",
    "\n",
    "c = c - a"
   ]
  },
  {
   "cell_type": "markdown",
   "metadata": {},
   "source": [
    "<i>Can you guess the result if you print `c`?</i>"
   ]
  },
  {
   "cell_type": "code",
   "execution_count": 18,
   "metadata": {
    "collapsed": false
   },
   "outputs": [
    {
     "name": "stdout",
     "output_type": "stream",
     "text": [
      "5\n"
     ]
    }
   ],
   "source": [
    "a = 10\n",
    "c = 15\n",
    "\n",
    "c -= a\n",
    "\n",
    "# Write your code below\n",
    "print(c)\n",
    "\n"
   ]
  },
  {
   "cell_type": "markdown",
   "metadata": {},
   "source": [
    "### ( `*=` ) multiply AND\n",
    "\n",
    "Multiplies right operand with the left operand and assign the result to left operand.\n",
    "\n",
    "For example:"
   ]
  },
  {
   "cell_type": "code",
   "execution_count": null,
   "metadata": {
    "collapsed": true
   },
   "outputs": [],
   "source": [
    "c *= a \n",
    "\n",
    "#is equivalent to:\n",
    "\n",
    "c = c * a"
   ]
  },
  {
   "cell_type": "markdown",
   "metadata": {},
   "source": [
    "<i>Try it yourself! Print c!</i>"
   ]
  },
  {
   "cell_type": "code",
   "execution_count": 19,
   "metadata": {
    "collapsed": false
   },
   "outputs": [
    {
     "name": "stdout",
     "output_type": "stream",
     "text": [
      "150\n"
     ]
    }
   ],
   "source": [
    "a = 10\n",
    "c = 15\n",
    "\n",
    "c *= a\n",
    "\n",
    "# Write your code below\n",
    "print(c)\n",
    "\n"
   ]
  },
  {
   "cell_type": "markdown",
   "metadata": {},
   "source": [
    "### ( `/=` ) divide AND\n",
    "\n",
    "Divides left operand with the right operand and assign the result to left operand. \n",
    "\n",
    "For example:"
   ]
  },
  {
   "cell_type": "code",
   "execution_count": null,
   "metadata": {
    "collapsed": true
   },
   "outputs": [],
   "source": [
    "c /= a \n",
    "\n",
    "#is equivalent to:\n",
    "\n",
    "c = c / a"
   ]
  },
  {
   "cell_type": "markdown",
   "metadata": {},
   "source": [
    "<i>Try to print c below!</i>"
   ]
  },
  {
   "cell_type": "code",
   "execution_count": 20,
   "metadata": {
    "collapsed": false
   },
   "outputs": [
    {
     "name": "stdout",
     "output_type": "stream",
     "text": [
      "1.5\n"
     ]
    }
   ],
   "source": [
    "a = 10\n",
    "c = 15\n",
    "\n",
    "c /= a\n",
    "\n",
    "# Write your code below\n",
    "print(c)\n",
    "\n"
   ]
  },
  {
   "cell_type": "markdown",
   "metadata": {},
   "source": [
    "### ( `%=` ) modulus AND\n",
    "Takes modulus using two operands and assign the result to left operand. \n",
    "\n",
    "For example:"
   ]
  },
  {
   "cell_type": "code",
   "execution_count": null,
   "metadata": {
    "collapsed": true
   },
   "outputs": [],
   "source": [
    "c %= a \n",
    "\n",
    "#is equivalent to:\n",
    "\n",
    "c = c % a"
   ]
  },
  {
   "cell_type": "markdown",
   "metadata": {},
   "source": [
    "<i>See the example below and again, print c.</i>"
   ]
  },
  {
   "cell_type": "code",
   "execution_count": 21,
   "metadata": {
    "collapsed": false
   },
   "outputs": [
    {
     "name": "stdout",
     "output_type": "stream",
     "text": [
      "5\n"
     ]
    }
   ],
   "source": [
    "a = 10\n",
    "c = 15\n",
    "\n",
    "c %= a\n",
    "\n",
    "# Write your code below\n",
    "\n",
    "print(c)\n"
   ]
  },
  {
   "cell_type": "markdown",
   "metadata": {},
   "source": [
    "### ( `**=` ) exponent AND\n",
    "Performs exponential (power) calculation on operators and assign value to the left operand. \n",
    "\n",
    "For example:"
   ]
  },
  {
   "cell_type": "code",
   "execution_count": null,
   "metadata": {
    "collapsed": true
   },
   "outputs": [],
   "source": [
    "c **= a \n",
    "\n",
    "#is equivalent to:\n",
    "\n",
    "c = c ** a"
   ]
  },
  {
   "cell_type": "markdown",
   "metadata": {},
   "source": [
    "<i>Check out the example below an print c.</i>"
   ]
  },
  {
   "cell_type": "code",
   "execution_count": 22,
   "metadata": {
    "collapsed": false
   },
   "outputs": [
    {
     "name": "stdout",
     "output_type": "stream",
     "text": [
      "2048\n"
     ]
    }
   ],
   "source": [
    "a = 11\n",
    "c = 2\n",
    "\n",
    "c **= a\n",
    "\n",
    "# Write your code below\n",
    "\n",
    "print(c)\n"
   ]
  },
  {
   "cell_type": "markdown",
   "metadata": {},
   "source": [
    "### ( `//=` ) floor division AND\n",
    "Performs floor division on operators and assign value to the left operand. \n",
    "> As discussed earlier, in floor division, the division of operands will result to a quotient in which the digits after the decimal point are removed.\n",
    "\n",
    "For example:"
   ]
  },
  {
   "cell_type": "code",
   "execution_count": null,
   "metadata": {
    "collapsed": true
   },
   "outputs": [],
   "source": [
    "c //= a \n",
    "\n",
    "#is equivalent to:\n",
    "\n",
    "c = c // a"
   ]
  },
  {
   "cell_type": "markdown",
   "metadata": {},
   "source": [
    "<i>Print c below to see the result.</i>"
   ]
  },
  {
   "cell_type": "code",
   "execution_count": 23,
   "metadata": {
    "collapsed": false
   },
   "outputs": [
    {
     "name": "stdout",
     "output_type": "stream",
     "text": [
      "1\n"
     ]
    }
   ],
   "source": [
    "a = 10\n",
    "c = 15\n",
    "\n",
    "c //= a\n",
    "\n",
    "# Write your code below\n",
    "\n",
    "print(c)\n"
   ]
  },
  {
   "cell_type": "markdown",
   "metadata": {},
   "source": [
    "## 4.1.3 Boolean Operators\n",
    "\n",
    "> _\"A boolean is like a light switch. It can only have two values. Just like a light switch can only be on or off, a boolean can only be True or False.\"_\n",
    "\n",
    "Below are the boolean operations in ascending priority:"
   ]
  },
  {
   "cell_type": "markdown",
   "metadata": {},
   "source": [
    "### `or`\n",
    "\n",
    "It only evaluates the second argument if the first one is __False__.\n",
    "\n",
    "Go ahead if run the example:"
   ]
  },
  {
   "cell_type": "code",
   "execution_count": 25,
   "metadata": {
    "collapsed": false
   },
   "outputs": [
    {
     "name": "stdout",
     "output_type": "stream",
     "text": [
      "None of those are my favorite colours\n"
     ]
    }
   ],
   "source": [
    "color1 = \"red\"\n",
    "color2 = \"blue\"\n",
    "\n",
    "if color1 == \"red\" and color2 == \"orange\":\n",
    "    print(\"Either of the two are my favorite colours!\")\n",
    "    \n",
    "else:\n",
    "    print(\"None of those are my favorite colours\")"
   ]
  },
  {
   "cell_type": "markdown",
   "metadata": {},
   "source": [
    "On the example above, the second condition which is the __color2 == \"orange\"__ was no longer evaluated because the first condition was already satisfied. Always remember that in __\"or\"__, only one condition needs to be satisfied to make it True.\n",
    "\n",
    "\n",
    "Try changing the first condition to see what will happen."
   ]
  },
  {
   "cell_type": "markdown",
   "metadata": {},
   "source": [
    "### `and`\n",
    "\n",
    "It only evaluates the second argument if the first one is __True__.\n",
    "\n",
    "Try to run the example below:"
   ]
  },
  {
   "cell_type": "code",
   "execution_count": 26,
   "metadata": {
    "collapsed": false
   },
   "outputs": [
    {
     "name": "stdout",
     "output_type": "stream",
     "text": [
      "Both matters are liquid!\n"
     ]
    }
   ],
   "source": [
    "matter1 = \"water\"\n",
    "matter2 = \"soda\"\n",
    "\n",
    "if matter1 == \"water\" and matter2 == \"soda\":\n",
    "    print(\"Both matters are liquid!\")"
   ]
  },
  {
   "cell_type": "markdown",
   "metadata": {},
   "source": [
    "In __\"and\"__, both conditions should be met. If you change the conditions on the example above, none will be printed. Try it!  "
   ]
  },
  {
   "cell_type": "markdown",
   "metadata": {},
   "source": [
    "### `not`\n",
    "\n",
    "Using __\"not\"__ before a boolean expression inverts it. For the example, run the code below."
   ]
  },
  {
   "cell_type": "code",
   "execution_count": 27,
   "metadata": {
    "collapsed": false
   },
   "outputs": [
    {
     "name": "stdout",
     "output_type": "stream",
     "text": [
      "False\n"
     ]
    }
   ],
   "source": [
    "a = True\n",
    "b = False\n",
    "\n",
    "print(not a)"
   ]
  },
  {
   "cell_type": "markdown",
   "metadata": {},
   "source": [
    "### Summary: Table of Comparison and Boolean Operators\n",
    "\n",
    "|   Operator   |                    Description                    |\n",
    "|:------------:|:-------------------------------------------------:|\n",
    "|    `x < y`   | Strictly less than                                |\n",
    "|   `x <= y`   | Less than or equal to                             |\n",
    "|    `x > y`   | Strictly greater than                             |\n",
    "|   `x >= y`   | Greater than or equal to                          |\n",
    "|   `x == y`   | Equal to (Same Value)                             |\n",
    "|   `x != y`   | Not equal to (same as `x <> y` in Python 2.x only |\n",
    "|   `x is y`   | Same object                                       |\n",
    "| `x is not y` | Negated object identity                           |\n",
    "|  `x < y < z` | Chained comparisons                               |\n",
    "|    `not x`   | If `x` is false then `True`; else, `False`        |\n",
    "|   `x or y`   | If `x` is false then `y`; else, `x`               |\n",
    "|   `x and y`  | If `x` is false then`x`; else `y`                 |\n",
    "\n"
   ]
  },
  {
   "cell_type": "markdown",
   "metadata": {},
   "source": [
    "## 4.1.4 Membership Operators\n",
    "\n",
    "Python’s membership operators test for membership in a sequence, such as strings, lists, or tuples. There are two membership operators:"
   ]
  },
  {
   "cell_type": "markdown",
   "metadata": {},
   "source": [
    "### `in`\n",
    "\n",
    "Evaluates to true if it finds a variable in the specified sequence and false otherwise."
   ]
  },
  {
   "cell_type": "code",
   "execution_count": 28,
   "metadata": {
    "collapsed": false
   },
   "outputs": [
    {
     "name": "stdout",
     "output_type": "stream",
     "text": [
      "True\n",
      "False\n"
     ]
    }
   ],
   "source": [
    "a = 10\n",
    "my_list = [2,4,6,8,10]\n",
    "my_list_2 = [1,2,3,4,5]\n",
    "\n",
    "print(a in my_list)   # Prints 'True' because 10 is included in my_list \n",
    "print(a in my_list_2) # Prints 'False' because 10 is not included in my_list_2"
   ]
  },
  {
   "cell_type": "markdown",
   "metadata": {},
   "source": [
    "### `not in`\n",
    "\n",
    "Evaluates to true if it does not finds a variable in the specified sequence and false otherwise. Basically, it is the opposite of '_in_' that was explained above."
   ]
  },
  {
   "cell_type": "code",
   "execution_count": 29,
   "metadata": {
    "collapsed": false
   },
   "outputs": [
    {
     "name": "stdout",
     "output_type": "stream",
     "text": [
      "False\n",
      "True\n"
     ]
    }
   ],
   "source": [
    "a = 10\n",
    "my_list = [2,4,6,8,10]\n",
    "my_list_2 = [1,2,3,4,5]\n",
    "\n",
    "print(a not in my_list)   # Prints 'False' because 10 is included in my_list \n",
    "print(a not in my_list_2) # Prints 'True' because 10 is not included in my_list_2"
   ]
  },
  {
   "cell_type": "markdown",
   "metadata": {},
   "source": [
    "## 4.1.5 Identity Operators\n",
    "\n",
    "They are used to check if two values (or variables) are located on the same part of the memory. Two variables that are equal does not imply that they are identical."
   ]
  },
  {
   "cell_type": "markdown",
   "metadata": {},
   "source": [
    "### `is`\n",
    "\n",
    "Evaluates to True if the operands are identical (refer to the same object)"
   ]
  },
  {
   "cell_type": "code",
   "execution_count": 30,
   "metadata": {
    "collapsed": false
   },
   "outputs": [
    {
     "name": "stdout",
     "output_type": "stream",
     "text": [
      "True\n"
     ]
    }
   ],
   "source": [
    "a = 20\n",
    "b = 20\n",
    "\n",
    "print(a is b) # Prints 'True' because a and b has the same identity."
   ]
  },
  {
   "cell_type": "markdown",
   "metadata": {},
   "source": [
    "### `is not`\n",
    "\n",
    "Evaluates to True if the operands are not identical (do not refer to the same object)"
   ]
  },
  {
   "cell_type": "code",
   "execution_count": 31,
   "metadata": {
    "collapsed": false
   },
   "outputs": [
    {
     "name": "stdout",
     "output_type": "stream",
     "text": [
      "True\n"
     ]
    }
   ],
   "source": [
    "a = 20\n",
    "b = 30\n",
    "\n",
    "print(a is not b) # Prints 'True' because a and b has different identity."
   ]
  },
  {
   "cell_type": "markdown",
   "metadata": {},
   "source": [
    "## 4.1.6 Comparison Operators\n",
    "\n",
    "> _\"These operators compare the values on either sides of them and decide the relation among them. They are also called Relational operators.\"_\n",
    "\n",
    "In Python 3.x, comparisons are strict and will work only for compatible types. Otherwise, a `TypeError` is raised."
   ]
  },
  {
   "cell_type": "markdown",
   "metadata": {},
   "source": [
    "###  `==` \n",
    "If the values of two operands are equal, then the condition becomes true. Print the code below to see the result."
   ]
  },
  {
   "cell_type": "code",
   "execution_count": 33,
   "metadata": {
    "collapsed": false
   },
   "outputs": [
    {
     "name": "stdout",
     "output_type": "stream",
     "text": [
      "True\n"
     ]
    }
   ],
   "source": [
    "a = 2\n",
    "b = 2\n",
    "\n",
    "print(a == b)"
   ]
  },
  {
   "cell_type": "markdown",
   "metadata": {},
   "source": [
    "### `!=`\n",
    " \n",
    "If values of two operands are __not equal__, then condition becomes true. For example:"
   ]
  },
  {
   "cell_type": "code",
   "execution_count": 34,
   "metadata": {
    "collapsed": false
   },
   "outputs": [
    {
     "name": "stdout",
     "output_type": "stream",
     "text": [
      "True\n"
     ]
    }
   ],
   "source": [
    "a = 2\n",
    "b = 3\n",
    "\n",
    "print(a != b)"
   ]
  },
  {
   "cell_type": "markdown",
   "metadata": {},
   "source": [
    "### `<>`\n",
    "\n",
    "If values of two operands are not equal, then condition becomes `True`. \n",
    "\n",
    "This is similar to the __!=__ operator but is then deprecated in Python 3 because it is redundant."
   ]
  },
  {
   "cell_type": "code",
   "execution_count": 35,
   "metadata": {
    "collapsed": false
   },
   "outputs": [
    {
     "ename": "SyntaxError",
     "evalue": "invalid syntax (<ipython-input-35-e1bf68d29d69>, line 4)",
     "output_type": "error",
     "traceback": [
      "\u001b[0;36m  File \u001b[0;32m\"<ipython-input-35-e1bf68d29d69>\"\u001b[0;36m, line \u001b[0;32m4\u001b[0m\n\u001b[0;31m    print(a <> b) # This won't run in Python 3\u001b[0m\n\u001b[0m             ^\u001b[0m\n\u001b[0;31mSyntaxError\u001b[0m\u001b[0;31m:\u001b[0m invalid syntax\n"
     ]
    }
   ],
   "source": [
    "a = 2\n",
    "b = 3\n",
    "\n",
    "print(a <> b) # This won't run in Python 3"
   ]
  },
  {
   "cell_type": "markdown",
   "metadata": {},
   "source": [
    "_Note_: \n",
    "> `!=` and `<>` both mean not equal by value in Python 2.x,  but `!=` is the preferred syntax in in Python 2.x and the only supported option in Python 3.x."
   ]
  },
  {
   "cell_type": "markdown",
   "metadata": {},
   "source": [
    "## 4.1.7 Difference between `is` and `==`\n",
    "\n",
    "### `is`\n",
    " - For _reference_ equality. \n",
    " - Does not match values of the variables, but the instances themselves. \n",
    " - This will return __True__ if two variables point to the same object.\n",
    "\n",
    "### `==`\n",
    " - For _value_ equality. \n",
    " - Use it when you would like to know if two objects have the same value.\n",
    " - Will return true if the objects referred to by the variables are equal.\n",
    " \n",
    "In short, `is` performs an identity test; `==` performs value comparison, and so is much more generally useful.\n",
    "\n",
    "For example:"
   ]
  },
  {
   "cell_type": "code",
   "execution_count": 36,
   "metadata": {
    "collapsed": false
   },
   "outputs": [
    {
     "name": "stdout",
     "output_type": "stream",
     "text": [
      "True\n",
      "True\n"
     ]
    }
   ],
   "source": [
    "# Example no. 1\n",
    "\n",
    "x = [1, 2, 3]\n",
    "y = x\n",
    "\n",
    "using_is = y is x \n",
    "using_double_equal = y == x\n",
    "\n",
    "print(using_is)\n",
    "print(using_double_equal)"
   ]
  },
  {
   "cell_type": "code",
   "execution_count": 38,
   "metadata": {
    "collapsed": false
   },
   "outputs": [
    {
     "name": "stdout",
     "output_type": "stream",
     "text": [
      "False\n",
      "True\n"
     ]
    }
   ],
   "source": [
    "# Example no. 2\n",
    "\n",
    "x = 1000 is 10**3\n",
    "y = 1000 == 10**3\n",
    "\n",
    "print(x)\n",
    "print(y)"
   ]
  },
  {
   "cell_type": "markdown",
   "metadata": {},
   "source": [
    "# 4.2 [Delimiters](https://docs.python.org/3.5/reference/lexical_analysis.html#delimiters)\n",
    "\n",
    "You'll also encounter a lot of delimiters in Python. One delimiter you won't see a lot is the semicolon (`;`). The line delimiter is completely optional in Python. Each data type has its own delimiter and these delimiters can be found in other places. Let's look at what some common delimiters mean."
   ]
  },
  {
   "cell_type": "markdown",
   "metadata": {},
   "source": [
    "## 4.2.1 `[ ]` (brackets)\n",
    "\n",
    "These represent __lists__ when it contains a series of values, or a __list comprehension__ when it contains an expression.\n",
    "\n",
    "When found immediately after certain data types and it contains an integer, it means data is being accessed at that index (__`array[index]`__). When this data is an iterable, it could also represent a slicing operation. Slicing takes in several parameters: start, stop, and an optional step. (__`iterable[start:stop[:step]]`__)."
   ]
  },
  {
   "cell_type": "code",
   "execution_count": 39,
   "metadata": {
    "collapsed": false
   },
   "outputs": [
    {
     "data": {
      "text/plain": [
       "[4, 3, 2, 1]"
      ]
     },
     "execution_count": 39,
     "metadata": {},
     "output_type": "execute_result"
    }
   ],
   "source": [
    "a = [1, 2, 3, 4]  # list\n",
    "\n",
    "b = [  # these can be split up to multiple lines\n",
    "    1,\n",
    "    2,\n",
    "    3,\n",
    "    4,\n",
    "]\n",
    "\n",
    "a[0]  # value at list index 0 is being accessed\n",
    "\n",
    "a[::-1]  # list is sliced with a negative step, it's another way to reverse it"
   ]
  },
  {
   "cell_type": "markdown",
   "metadata": {},
   "source": [
    "## 4.2.2 `{ }` ([curly] braces)\n",
    "\n",
    "These brackets represent either __dictionaries__ when it contains key-value pairs, a __set__ when it contains a list-like value, or a __set comprehension__ when it contains an expression."
   ]
  },
  {
   "cell_type": "code",
   "execution_count": 40,
   "metadata": {
    "collapsed": false
   },
   "outputs": [],
   "source": [
    "a = {\"key\": \"value\"}  # dictionary\n",
    "\n",
    "b = {1, 2, 3}  # set\n",
    "\n",
    "c = {i for i in range(3)}  # set comprehension"
   ]
  },
  {
   "cell_type": "markdown",
   "metadata": {},
   "source": [
    "## 4.2.3 `( )` (parenthesis)\n",
    "\n",
    "These brackets represent either __tuples__ when it contains a list-like value, or a __generator__ when it contains an expression.\n",
    "\n",
    "These can also be found succeeding a function name when it's called or a class when instantiated.\n",
    "\n",
    "When found in a statement, it pertains to a grouping that may also determine precedence."
   ]
  },
  {
   "cell_type": "code",
   "execution_count": 41,
   "metadata": {
    "collapsed": false
   },
   "outputs": [],
   "source": [
    "a = (1, 2, 3)  # tuple\n",
    "\n",
    "b = (i for i in range(3))  # generator expression"
   ]
  },
  {
   "cell_type": "markdown",
   "metadata": {},
   "source": [
    "## 4.2.4 `\"\"\" \"\"\"` or `''' '''`(triple double/single quotes)\n",
    "\n",
    "This represents a (multiline) __comment__. When immediately succeeding a function, class or method definition, it depresents a [__docstring__](https://www.python.org/dev/peps/pep-0257/#what-is-a-docstring)."
   ]
  },
  {
   "cell_type": "code",
   "execution_count": 42,
   "metadata": {
    "collapsed": true
   },
   "outputs": [],
   "source": [
    "def func():\n",
    "    \"\"\"Function docstring\"\"\"\n",
    "    pass\n",
    "\n",
    "\n",
    "class Cls(object):\n",
    "    '''Class docstring'''\n",
    "    \n",
    "    def method(self):\n",
    "        \"\"\"Method docstring\"\"\"\n",
    "        pass"
   ]
  },
  {
   "cell_type": "markdown",
   "metadata": {},
   "source": [
    "This is not an exhaustive list. The documentation will contain a comprehensive information on operators and delimiters."
   ]
  }
 ],
 "metadata": {
  "kernelspec": {
   "display_name": "Python 3",
   "language": "python",
   "name": "python3"
  },
  "language_info": {
   "codemirror_mode": {
    "name": "ipython",
    "version": 3
   },
   "file_extension": ".py",
   "mimetype": "text/x-python",
   "name": "python",
   "nbconvert_exporter": "python",
   "pygments_lexer": "ipython3",
   "version": "3.4.4"
  }
 },
 "nbformat": 4,
 "nbformat_minor": 0
}
