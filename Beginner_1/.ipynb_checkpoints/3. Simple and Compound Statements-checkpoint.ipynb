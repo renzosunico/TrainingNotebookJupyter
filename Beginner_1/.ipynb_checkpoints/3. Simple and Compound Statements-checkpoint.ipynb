{
 "cells": [
  {
   "cell_type": "markdown",
   "metadata": {},
   "source": [
    "## 3.1 Simple Statements\n",
    "\n",
    "A simple statement is comprised within a single logical line. \n",
    "\n",
    "For example:"
   ]
  },
  {
   "cell_type": "code",
   "execution_count": 1,
   "metadata": {
    "collapsed": true
   },
   "outputs": [],
   "source": [
    "var1 = \"Hello\""
   ]
  },
  {
   "cell_type": "markdown",
   "metadata": {},
   "source": [
    "Several simple statements may occur on a single line separated by semicolons. Semicolons mark the end of a line of code but it's possible to have several statements in one line."
   ]
  },
  {
   "cell_type": "code",
   "execution_count": 2,
   "metadata": {
    "collapsed": false
   },
   "outputs": [
    {
     "ename": "SyntaxError",
     "evalue": "invalid syntax (<ipython-input-2-08a07f325799>, line 1)",
     "output_type": "error",
     "traceback": [
      "\u001b[0;36m  File \u001b[0;32m\"<ipython-input-2-08a07f325799>\"\u001b[0;36m, line \u001b[0;32m1\u001b[0m\n\u001b[0;31m    simple_stmt ::=  expression_stmt\u001b[0m\n\u001b[0m                ^\u001b[0m\n\u001b[0;31mSyntaxError\u001b[0m\u001b[0;31m:\u001b[0m invalid syntax\n"
     ]
    }
   ],
   "source": [
    "simple_stmt ::=  expression_stmt\n",
    "                 | assert_stmt\n",
    "                 | assignment_stmt\n",
    "                 | augmented_assignment_stmt\n",
    "                 | pass_stmt\n",
    "                 | del_stmt\n",
    "                 | return_stmt\n",
    "                 | yield_stmt\n",
    "                 | raise_stmt\n",
    "                 | break_stmt\n",
    "                 | continue_stmt\n",
    "                 | import_stmt\n",
    "                 | global_stmt\n",
    "                 | nonlocal_stmt"
   ]
  },
  {
   "cell_type": "markdown",
   "metadata": {},
   "source": [
    "  "
   ]
  },
  {
   "cell_type": "markdown",
   "metadata": {},
   "source": [
    "## 3.2 Compound Statements\n",
    "\n",
    "Compound statements contain (groups of) other statements; they affect or control the execution of those other statements in some way.\n",
    "\n",
    "In general, compound statements span multiple lines, although in simple incarnations a whole compound statement may be contained in one line."
   ]
  },
  {
   "cell_type": "code",
   "execution_count": 3,
   "metadata": {
    "collapsed": false
   },
   "outputs": [
    {
     "name": "stdout",
     "output_type": "stream",
     "text": [
      "We got 100\n"
     ]
    }
   ],
   "source": [
    "var1 = 100\n",
    "\n",
    "if var1:\n",
    "   print(\"We got 100\")\n",
    "else:\n",
    "   print(\"That's not the value we're looking for\")"
   ]
  },
  {
   "cell_type": "markdown",
   "metadata": {},
   "source": [
    "A compound statement consists of one or more ‘clauses.’ A clause consists of a header and a ‘suite.’ The clause headers of a particular compound statement are all at the same indentation level. Each clause header begins with a uniquely identifying keyword and ends with a colon. \n",
    "\n",
    "Syntax:"
   ]
  },
  {
   "cell_type": "code",
   "execution_count": 4,
   "metadata": {
    "collapsed": false
   },
   "outputs": [
    {
     "ename": "SyntaxError",
     "evalue": "invalid syntax (<ipython-input-4-a20a16961dc5>, line 1)",
     "output_type": "error",
     "traceback": [
      "\u001b[0;36m  File \u001b[0;32m\"<ipython-input-4-a20a16961dc5>\"\u001b[0;36m, line \u001b[0;32m1\u001b[0m\n\u001b[0;31m    compound_stmt ::=  if_stmt\u001b[0m\n\u001b[0m                  ^\u001b[0m\n\u001b[0;31mSyntaxError\u001b[0m\u001b[0;31m:\u001b[0m invalid syntax\n"
     ]
    }
   ],
   "source": [
    "compound_stmt ::=  if_stmt\n",
    "                   | while_stmt\n",
    "                   | for_stmt\n",
    "                   | try_stmt\n",
    "                   | with_stmt\n",
    "                   | funcdef\n",
    "                   | classdef\n",
    "                   | async_with_stmt\n",
    "                   | async_for_stmt\n",
    "                   | async_funcdef\n",
    "suite         ::=  stmt_list NEWLINE | NEWLINE INDENT statement+ DEDENT\n",
    "statement     ::=  stmt_list NEWLINE | compound_stmt\n",
    "stmt_list     ::=  simple_stmt (\";\" simple_stmt)* [\";\"]"
   ]
  },
  {
   "cell_type": "markdown",
   "metadata": {},
   "source": [
    "In the next notebook, we'll go through different kinds of simple statements, using various operators as well as an overview of delimiters you'll encounter in Python."
   ]
  }
 ],
 "metadata": {
  "kernelspec": {
   "display_name": "Python 3",
   "language": "python",
   "name": "python3"
  },
  "language_info": {
   "codemirror_mode": {
    "name": "ipython",
    "version": 3
   },
   "file_extension": ".py",
   "mimetype": "text/x-python",
   "name": "python",
   "nbconvert_exporter": "python",
   "pygments_lexer": "ipython3",
   "version": "3.4.4"
  }
 },
 "nbformat": 4,
 "nbformat_minor": 0
}
