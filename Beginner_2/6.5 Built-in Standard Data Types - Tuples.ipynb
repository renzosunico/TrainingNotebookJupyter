{
 "cells": [
  {
   "cell_type": "markdown",
   "metadata": {},
   "source": [
    "# 6.5 Tuples\n",
    "\n",
    "A tuple is a sequence of __immutable__ Python objects. By __immutable__, it means that tuples __CANNOT__ be changed once created. They hold an __ordered__ collection of values which can be of any type.\n",
    "\n",
    "- Tuples are sequences, just like lists. The differences between tuples and lists are, the tuples cannot be changed, as mentioned above unlike lists. Also, tuples use parentheses whereas lists use square brackets.\n",
    "\n",
    "\n",
    "- Tuples can be expanded into variables easily. In assigning values, you may also ommit the paretheses. \n",
    "\n",
    "\n",
    "See examples below:"
   ]
  },
  {
   "cell_type": "code",
   "execution_count": 1,
   "metadata": {
    "collapsed": false
   },
   "outputs": [],
   "source": [
    "tuple1 = ('apple', 'banana', 2012, 1993)\n",
    "tuple2 = (1, 2, 3, 4, 5 )\n",
    "tuple3 = \"a\", \"b\", \"c\", \"d\""
   ]
  },
  {
   "cell_type": "markdown",
   "metadata": {},
   "source": [
    "You may create an empty tuple like this:"
   ]
  },
  {
   "cell_type": "code",
   "execution_count": 2,
   "metadata": {
    "collapsed": true
   },
   "outputs": [],
   "source": [
    "tuple1 = ()"
   ]
  },
  {
   "cell_type": "markdown",
   "metadata": {},
   "source": [
    "To write a tuple containing a single value you have to include a comma, even though there is only one value:"
   ]
  },
  {
   "cell_type": "code",
   "execution_count": 4,
   "metadata": {
    "collapsed": true
   },
   "outputs": [],
   "source": [
    "tuple1 = (50,)"
   ]
  },
  {
   "cell_type": "markdown",
   "metadata": {},
   "source": [
    "Like string indices, tuple indices start at 0, and they can be sliced, concatenated, and so on.\n",
    "\n",
    "## 6.5.1 Accessing Values in a Tuple\n",
    "\n",
    "In accessing values in a tuple, it is also similar to other data types such as lists. Use the square brackets for slicing along with the index or indices to obtain value available at that index.\n",
    "\n",
    "Run the examples below:"
   ]
  },
  {
   "cell_type": "code",
   "execution_count": 5,
   "metadata": {
    "collapsed": false
   },
   "outputs": [
    {
     "data": {
      "text/plain": [
       "'P'"
      ]
     },
     "execution_count": 5,
     "metadata": {},
     "output_type": "execute_result"
    }
   ],
   "source": [
    "tuple1 = ('P','y','t','h','o','n')\n",
    "\n",
    "tuple1[0]"
   ]
  },
  {
   "cell_type": "code",
   "execution_count": 6,
   "metadata": {
    "collapsed": false
   },
   "outputs": [
    {
     "data": {
      "text/plain": [
       "('P', 'y', 't')"
      ]
     },
     "execution_count": 6,
     "metadata": {},
     "output_type": "execute_result"
    }
   ],
   "source": [
    "tuple1 = ('P','y','t','h','o','n')\n",
    "\n",
    "tuple1[0:3]"
   ]
  },
  {
   "cell_type": "markdown",
   "metadata": {},
   "source": [
    "## 6.5.2 Methods\n",
    "\n",
    "Since tuples are immutable (cannot be changed), there are fewer methods available.\n",
    "\n",
    "### `len()`\n",
    "\n",
    "> The method `len()` returns the number of elements in the tuple.\n",
    "\n",
    "For example:"
   ]
  },
  {
   "cell_type": "code",
   "execution_count": 7,
   "metadata": {
    "collapsed": false
   },
   "outputs": [
    {
     "data": {
      "text/plain": [
       "6"
      ]
     },
     "execution_count": 7,
     "metadata": {},
     "output_type": "execute_result"
    }
   ],
   "source": [
    "# Run the Code\n",
    "my_tuple = (1, 2, 3, 4, 5)\n",
    "\n",
    "len(tuple1)"
   ]
  },
  {
   "cell_type": "markdown",
   "metadata": {
    "collapsed": true
   },
   "source": [
    "### `count()`\n",
    "\n",
    "> The method `count()` returns count of how many times the `obj` occurs in tuple.\n",
    "\n",
    "For example:"
   ]
  },
  {
   "cell_type": "code",
   "execution_count": 8,
   "metadata": {
    "collapsed": false
   },
   "outputs": [
    {
     "name": "stdout",
     "output_type": "stream",
     "text": [
      "2\n"
     ]
    }
   ],
   "source": [
    "# Run the code\n",
    "my_tuple = ('apple', 'banana', 'apple', 'orange','banana');\n",
    "\n",
    "print(my_tuple.count('apple'))"
   ]
  },
  {
   "cell_type": "markdown",
   "metadata": {},
   "source": [
    "### `index()`\n",
    "\n",
    "> The method `index()` returns the __lowest index__ in a tuple that the `obj` appears.\n",
    "\n",
    "For example:"
   ]
  },
  {
   "cell_type": "code",
   "execution_count": 9,
   "metadata": {
    "collapsed": false
   },
   "outputs": [
    {
     "name": "stdout",
     "output_type": "stream",
     "text": [
      "1\n"
     ]
    }
   ],
   "source": [
    "# Run the code\n",
    "my_tuple = ('apple', 'banana', 'apple', 'orange','banana');\n",
    "\n",
    "print(my_tuple.index('banana'))"
   ]
  },
  {
   "cell_type": "code",
   "execution_count": null,
   "metadata": {
    "collapsed": true
   },
   "outputs": [],
   "source": []
  }
 ],
 "metadata": {
  "kernelspec": {
   "display_name": "Python 3",
   "language": "python",
   "name": "python3"
  },
  "language_info": {
   "codemirror_mode": {
    "name": "ipython",
    "version": 3
   },
   "file_extension": ".py",
   "mimetype": "text/x-python",
   "name": "python",
   "nbconvert_exporter": "python",
   "pygments_lexer": "ipython3",
   "version": "3.4.4"
  }
 },
 "nbformat": 4,
 "nbformat_minor": 0
}
