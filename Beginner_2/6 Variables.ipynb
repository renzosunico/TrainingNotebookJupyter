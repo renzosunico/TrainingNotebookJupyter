{
 "cells": [
  {
   "cell_type": "markdown",
   "metadata": {},
   "source": [
    "# Variables\n",
    "\n",
    "Variables are reserved memory locations to store values.\n",
    "Every variable in Python is an object."
   ]
  },
  {
   "cell_type": "code",
   "execution_count": 1,
   "metadata": {
    "collapsed": false
   },
   "outputs": [
    {
     "name": "stdout",
     "output_type": "stream",
     "text": [
      "Apple\n",
      "Orange\n"
     ]
    }
   ],
   "source": [
    "# The equal sign (=) is used to assign values to variables.\n",
    "# Run the code\n",
    "\n",
    "a = 'Apple'\n",
    "b = 'Orange'\n",
    "\n",
    "print(a)\n",
    "print(b)"
   ]
  },
  {
   "cell_type": "markdown",
   "metadata": {},
   "source": [
    "#### Exercise: \n",
    "\n",
    "(1) Create a variable named \"__`c`__\" and assign the value 'Grapes'\n",
    "\n",
    "(2) Print __`c`__"
   ]
  },
  {
   "cell_type": "code",
   "execution_count": 2,
   "metadata": {
    "collapsed": false
   },
   "outputs": [
    {
     "name": "stdout",
     "output_type": "stream",
     "text": [
      "Grapes\n"
     ]
    }
   ],
   "source": [
    "# Write your code below\n",
    "\n",
    "c = \"Grapes\"\n",
    "print(c)\n"
   ]
  },
  {
   "cell_type": "markdown",
   "metadata": {},
   "source": [
    "## 6.1 Identifier Naming Rules\n",
    "\n",
    "- (a) Variables names must start with a letter or an underscore, such as:\n",
    "    - variable\n",
    "    - _variable\n",
    "\n",
    "\n",
    "- (b) The remainder of your variable name may consist of letters, numbers, and underscores.\n",
    "    - password\n",
    "    - variable1\n",
    "    - first_name\n",
    "\n",
    "\n",
    "- (c) Names are case sensitive. The examples below are each, a different variable:\n",
    "    - case_sensitive\n",
    "    - CASE_SENSITIVE\n",
    "    - case_Sensitive \n",
    "\n",
    "__NOTE__: Avoid abbreviating variable names.\n",
    "\n",
    "> When you see a variable called __`balance_sheet_decrease`__, it’s much easier to interpret in your mind than an abbreviated variable like __`bsd`__ or __`bal_s_d`__.\n",
    "\n",
    ">These types of shortcuts may save a few seconds of typing, but that savings comes at the expense of hours or days of technical debt. It’s not worth it.\n",
    "\n",
    "## 6.2 Reserved Words\n",
    "\n",
    "The following identifiers are used as reserved words, or keywords of the language, and __cannot__ be used as ordinary identifiers. They must be spelled exactly as written here:"
   ]
  },
  {
   "cell_type": "code",
   "execution_count": 3,
   "metadata": {
    "collapsed": false
   },
   "outputs": [
    {
     "ename": "SyntaxError",
     "evalue": "invalid syntax (<ipython-input-3-b2aeccfaa2d3>, line 1)",
     "output_type": "error",
     "traceback": [
      "\u001b[0;36m  File \u001b[0;32m\"<ipython-input-3-b2aeccfaa2d3>\"\u001b[0;36m, line \u001b[0;32m1\u001b[0m\n\u001b[0;31m    False      class      finally    is         return\u001b[0m\n\u001b[0m                   ^\u001b[0m\n\u001b[0;31mSyntaxError\u001b[0m\u001b[0;31m:\u001b[0m invalid syntax\n"
     ]
    }
   ],
   "source": [
    "False      class      finally    is         return\n",
    "None       continue   for        lambda     try\n",
    "True       def        from       nonlocal   while\n",
    "and        del        global     not        with\n",
    "as         elif       if         or         yield\n",
    "assert     else       import     pass\n",
    "break      except     in         raise"
   ]
  },
  {
   "cell_type": "markdown",
   "metadata": {},
   "source": [
    "## 6.3 Naming Conventions\n",
    "\n",
    ">Understandable code frees mental bandwidth from having to puzzle out inconsistencies, making it easier to maintain and enhance projects of all sizes.\n",
    "\n",
    "\n",
    "1. Readability is very important.\n",
    "2. Descriptive names are very useful\n",
    "3. Avoid using the lowercase letter ‘l’, uppercase ‘O’, and uppercase ‘I’. Why? Because the l and the I look a lot like each other and the number 1. And O looks a lot like 0.\n",
    "\n",
    "## 6.4 Multiple Assignment\n",
    "\n",
    "Python allows you to assign a single value to several variables simultaneously."
   ]
  },
  {
   "cell_type": "code",
   "execution_count": 4,
   "metadata": {
    "collapsed": false
   },
   "outputs": [
    {
     "name": "stdout",
     "output_type": "stream",
     "text": [
      "1\n",
      "1\n",
      "1\n"
     ]
    }
   ],
   "source": [
    "# In this example, all 3 objects are assigned to the same memory location.\n",
    "# Run the code\n",
    "\n",
    "a = b = c = 1\n",
    "\n",
    "print(a)\n",
    "print(b)\n",
    "print(c)"
   ]
  },
  {
   "cell_type": "markdown",
   "metadata": {},
   "source": [
    "## 6.4.1 Re-assigning of Variables\n",
    "\n",
    "Python also allows assignment of multiple variables simultaneously."
   ]
  },
  {
   "cell_type": "code",
   "execution_count": 5,
   "metadata": {
    "collapsed": false
   },
   "outputs": [
    {
     "name": "stdout",
     "output_type": "stream",
     "text": [
      "2\n",
      "1\n"
     ]
    }
   ],
   "source": [
    "# In this example, multiple variables are assigned then switched\n",
    "# Run the code\n",
    "\n",
    "a, b = 1, \"2\"\n",
    "a, b = b, a\n",
    "\n",
    "print(a)\n",
    "print(b)"
   ]
  },
  {
   "cell_type": "markdown",
   "metadata": {},
   "source": [
    "## 6.5 [Comparison Chaining](https://docs.python.org/3.5/reference/expressions.html#comparisons) \n",
    "\n",
    "\n",
    "All comparison operations in Python have the same priority, which is lower than that of any arithmetic, shifting or bitwise operation. \n",
    "\n",
    "Comparisons yield boolean values: True or False.\n",
    "\n",
    "Comparisons can be chained arbitrarily, e.g., __`x < y <= z`__ is equivalent to __`x < y`__ and __`y <= z`__, except that __`y`__ is evaluated only once (but in both cases __`z`__ is not evaluated at all when __`x < y`__ is found to be false).\n",
    "\n",
    "![Beginner_2](./images/img_comparison_chaining.png)\n",
    "\n",
    "## 6.6 Data Types\n",
    "\n",
    "The data stored in memory can be of many types. For example, a person's age is stored as a numeric value and his or her address is stored as alphanumeric characters. Python has various standard data types that are used to define the operations possible on them and the storage method for each of them.\n",
    "\n",
    "Python has five standard data types:\n",
    "\n",
    " - Numbers\n",
    "\n",
    " - String\n",
    "\n",
    " - List\n",
    "\n",
    " - Tuple\n",
    "\n",
    " - Dictionary\n",
    " \n",
    "\n",
    "### [Mutable vs. Immutable](http://codehabitude.com/2013/12/24/python-objects-mutable-vs-immutable/)\n",
    "Before having a brief introduction of the data types, let me explain first the difference between __mutable__ and __immutable__.\n",
    "\n",
    "### Mutable\n",
    "Objects that can be altered or changed. The following are mutable objects:\n",
    "- list\n",
    "- dict\n",
    "- set\n",
    "- byte array\n",
    "\n",
    "### Immutable\n",
    "Objects that cannot be altered nor changed. The following are immutable objects:\n",
    "- Numeric types: int, float, complex\n",
    "- string\n",
    "- tuple\n",
    "- frozen set\n",
    "- bytes\n",
    "\n",
    "### 1. Numbers (immutable)\n",
    "\n",
    "Number data types store numeric values. Number objects are created when you assign a value to them. \n",
    "\n",
    "For example:"
   ]
  },
  {
   "cell_type": "code",
   "execution_count": 6,
   "metadata": {
    "collapsed": true
   },
   "outputs": [],
   "source": [
    "var1 = 10\n",
    "var2 = 20"
   ]
  },
  {
   "cell_type": "markdown",
   "metadata": {},
   "source": [
    "Python supports four different numerical types:\n",
    "\n",
    " - int (signed integers)\n",
    "\n",
    " - long (long integers, they can also be represented in octal and hexadecimal)\n",
    "\n",
    " - float (floating point real values)\n",
    "\n",
    " - complex (complex numbers)\n",
    " \n",
    " ![Beginner_2](./images/img_numeric_types.png)\n",
    "\n",
    "- Python allows you to use a lowercase L with long, but it is recommended that you use only an uppercase L to avoid confusion with the number 1. Python displays long integers with an uppercase L.\n",
    "\n",
    "\n",
    "- A complex number consists of an ordered pair of real floating-point numbers denoted by __`x + yj`__, where __`x`__ and __`y`__ are the real numbers and __`j`__ is the imaginary unit."
   ]
  },
  {
   "cell_type": "markdown",
   "metadata": {},
   "source": [
    "### 2. String (immutable)\n",
    "\n",
    "- Strings in Python are identified as a contiguous set of characters represented in the quotation marks. \n",
    "\n",
    "- Python allows for either pairs of single or double quotes. \n",
    "\n",
    "For example:"
   ]
  },
  {
   "cell_type": "code",
   "execution_count": 7,
   "metadata": {
    "collapsed": false
   },
   "outputs": [],
   "source": [
    "my_string1 = 'this is a valid string'\n",
    "my_string2 = \"this is also a valid string\""
   ]
  },
  {
   "cell_type": "markdown",
   "metadata": {},
   "source": [
    "- Subsets of an [iterable](https://wiki.python.org/moin/Iterator) can be taken using the slice operator (__`[:]`__) with indexes starting at 0 in the beginning of the string and working their way to -1 at the end. Strings, as well as lists, and sets are subscriptable iterables. Slicing creates copies of it. We'll take a deeper look at slicing later.\n",
    "\n",
    "For example:"
   ]
  },
  {
   "cell_type": "code",
   "execution_count": 9,
   "metadata": {
    "collapsed": false
   },
   "outputs": [
    {
     "name": "stdout",
     "output_type": "stream",
     "text": [
      "I love Python!\n",
      " Python!\n"
     ]
    }
   ],
   "source": [
    "my_string = \"I love Python!\"\n",
    "\n",
    "my_string[0:6]  # Run the code to see the result\n",
    "print(my_string)\n",
    "\n",
    "# Try it yourself!\n",
    "# Slice the string and the result should be \"Python\"\n",
    "# Write your code below:\n",
    "print(my_string[6::])\n",
    "\n"
   ]
  },
  {
   "cell_type": "markdown",
   "metadata": {
    "collapsed": true
   },
   "source": [
    "- The plus (__`+`__) sign is the string concatenation operator and the asterisk (__`*`__) is the repetition operator. \n",
    "\n",
    "For example:"
   ]
  },
  {
   "cell_type": "code",
   "execution_count": 10,
   "metadata": {
    "collapsed": false
   },
   "outputs": [
    {
     "name": "stdout",
     "output_type": "stream",
     "text": [
      "HelloWorld\n",
      "HelloHelloHello\n"
     ]
    }
   ],
   "source": [
    "# Run the code to see the example\n",
    "\n",
    "my_string1 = \"Hello\"\n",
    "my_string2 = \"World\"\n",
    "\n",
    "print(my_string1 + my_string2)\n",
    "print(my_string1 * 3)"
   ]
  },
  {
   "cell_type": "markdown",
   "metadata": {},
   "source": [
    "### 3. List (mutable)\n",
    "\n",
    "Lists are the most versatile of Python's compound data types. A list contains items separated by commas and enclosed within square brackets (__`[]`__).\n",
    "\n",
    "To some extent, lists are similar to arrays in C. One difference between them is that all the items belonging to a list can be of different data type.\n",
    "\n",
    "For example:"
   ]
  },
  {
   "cell_type": "code",
   "execution_count": 12,
   "metadata": {
    "collapsed": false
   },
   "outputs": [
    {
     "name": "stdout",
     "output_type": "stream",
     "text": [
      "[1, 2, 3] ['Bob', '7.86']\n"
     ]
    }
   ],
   "source": [
    "my_list1 = [1, 2, 3, 4, 5]\n",
    "my_list2 = [1, \"John\", \"Bob\", \"7.86\"]\n",
    "\n",
    "# Try slicing the list:\n",
    "print(my_list1[0:3], my_list2[2:])\n",
    "\n"
   ]
  },
  {
   "cell_type": "markdown",
   "metadata": {},
   "source": [
    "The values stored in a list can be accessed using the slice operator (__`[:]`__) with indexes starting at 0 in the beginning of the list and working their way to end -1. The plus (__`+`__) sign is the list concatenation operator, and the asterisk (__`*`__) is the repetition operator. \n",
    "\n",
    "For example:"
   ]
  },
  {
   "cell_type": "code",
   "execution_count": 13,
   "metadata": {
    "collapsed": false
   },
   "outputs": [
    {
     "name": "stdout",
     "output_type": "stream",
     "text": [
      "['abcd', 786, 2.23, 'john', 70.2]\n",
      "abcd\n",
      "[786, 2.23]\n",
      "[2.23, 'john', 70.2]\n",
      "[123, 'john', 123, 'john']\n",
      "['abcd', 786, 2.23, 'john', 70.2, 123, 'john']\n"
     ]
    }
   ],
   "source": [
    "# Can you guess the output below?\n",
    "# Run the code to find out!\n",
    "\n",
    "list = ['abcd', 786 , 2.23, 'john', 70.2]\n",
    "tinylist = [123, 'john']\n",
    "\n",
    "print(list)            # Prints complete list\n",
    "print(list[0])         # Prints first element of the list\n",
    "print(list[1:3])       # Prints elements starting from 2nd till 3rd \n",
    "print(list[2:])        # Prints elements starting from 3rd element\n",
    "print(tinylist * 2)    # Prints list two times\n",
    "print(list + tinylist) # Prints concatenated lists"
   ]
  },
  {
   "cell_type": "markdown",
   "metadata": {},
   "source": [
    "### 4. Tuples (immutable)\n",
    "\n",
    "A tuple is another sequence data type that is similar to the list. A tuple consists of a number of values separated by commas. Unlike lists, however, tuples are enclosed within parentheses.\n",
    "\n",
    "\n",
    "The main differences between lists and tuples are: Lists are enclosed in brackets (__`[]`__) and their elements and size can be changed, while tuples are enclosed in parentheses (__`()`__) and cannot be updated. Tuples can be thought of as read-only lists. \n",
    "\n",
    "For example:"
   ]
  },
  {
   "cell_type": "code",
   "execution_count": 14,
   "metadata": {
    "collapsed": false
   },
   "outputs": [
    {
     "name": "stdout",
     "output_type": "stream",
     "text": [
      "('abcd', 786, 2.23, 'john', 70.2)\n",
      "abcd\n",
      "(786, 2.23)\n",
      "(2.23, 'john', 70.2)\n",
      "(123, 'john', 123, 'john')\n",
      "('abcd', 786, 2.23, 'john', 70.2, 123, 'john')\n"
     ]
    }
   ],
   "source": [
    "# Run the code\n",
    "tuple = ('abcd', 786 , 2.23, 'john', 70.2)\n",
    "tinytuple = (123, 'john')\n",
    "\n",
    "print(tuple)             # Prints complete list\n",
    "print(tuple[0])          # Prints first element of the list\n",
    "print(tuple[1:3])        # Prints elements starting from 2nd till 3rd \n",
    "print(tuple[2:])         # Prints elements starting from 3rd element\n",
    "print(tinytuple * 2)     # Prints list two times\n",
    "print(tuple + tinytuple) # Prints concatenated lists"
   ]
  },
  {
   "cell_type": "markdown",
   "metadata": {},
   "source": [
    "### 5. Dictionary (mutable)\n",
    "\n",
    "Python's dictionaries are kind of hash table type. They work like associative arrays or hashes found in Perl and consist of key-value pairs. A dictionary key can be almost any Python type, but are usually numbers or strings. Values, on the other hand, can be any arbitrary Python object.\n",
    "\n",
    "Dictionaries are enclosed by curly braces (__`{}`__) and values can be assigned and accessed using square braces (__`[]`__). \n",
    "\n",
    "For example:"
   ]
  },
  {
   "cell_type": "code",
   "execution_count": 15,
   "metadata": {
    "collapsed": false
   },
   "outputs": [
    {
     "name": "stdout",
     "output_type": "stream",
     "text": [
      "This is one\n",
      "This is two\n",
      "{'code': 6734, 'dept': 'sales', 'name': 'john'}\n",
      "dict_keys(['code', 'dept', 'name'])\n",
      "dict_values([6734, 'sales', 'john'])\n",
      "dict_items([('code', 6734), ('dept', 'sales'), ('name', 'john')])\n"
     ]
    }
   ],
   "source": [
    "# Run the code\n",
    "dict = {}\n",
    "dict['one'] = \"This is one\"\n",
    "dict[2] = \"This is two\"\n",
    "\n",
    "tinydict = {'name': 'john','code':6734, 'dept': 'sales'}\n",
    "\n",
    "\n",
    "print(dict['one'])       # Prints value for 'one' key\n",
    "print(dict[2])           # Prints value for 2 key\n",
    "print(tinydict)          # Prints complete dictionary\n",
    "print(tinydict.keys())   # Prints all the keys\n",
    "print(tinydict.values()) # Prints all the values\n",
    "print(tinydict.items())  # Prints all the key and value pairs as tuples"
   ]
  },
  {
   "cell_type": "markdown",
   "metadata": {},
   "source": [
    "Dictionaries have __no concept of order__ among elements. It is incorrect to say that the elements are \"out of order\"; they are simply unordered.\n",
    "\n",
    "## 6.7 Namespace\n",
    "\n",
    "Generally speaking, a namespace (sometimes also called a context) is a naming system for making names unique to avoid ambiguity. \n",
    "\n",
    "Namespaces are containers for mapping names to objects. Everything in Python - _literals, lists, dictionaries, functions, classes, etc._ - is an object.\n",
    "\n",
    "Such a “name-to-object” mapping allows us to access an object by a name that we’ve assigned to it. For example, if we make a simple string assignment like this:"
   ]
  },
  {
   "cell_type": "code",
   "execution_count": 16,
   "metadata": {
    "collapsed": true
   },
   "outputs": [],
   "source": [
    "a_string = \"Hello String\""
   ]
  },
  {
   "cell_type": "markdown",
   "metadata": {},
   "source": [
    "We created a reference to the __`\"Hello string\"`__ object, and therefore, we can access via its variable name __`a_string`__.\n",
    "\n",
    "We can picture a namespace as a Python dictionary structure, where the dictionary keys represent the names and the dictionary values the object itself (and this is also how namespaces are currently implemented in Python)\n",
    "\n",
    "For example:"
   ]
  },
  {
   "cell_type": "code",
   "execution_count": 19,
   "metadata": {
    "collapsed": false
   },
   "outputs": [],
   "source": [
    "a_namespace = {'name_a':'object_1', 'name_b':'object_2'}"
   ]
  },
  {
   "cell_type": "markdown",
   "metadata": {},
   "source": [
    "Now, the tricky part is that we have multiple independent namespaces in Python, and names can be reused for different namespaces (only the objects are unique, for example:"
   ]
  },
  {
   "cell_type": "code",
   "execution_count": null,
   "metadata": {
    "collapsed": false
   },
   "outputs": [],
   "source": [
    "a_namespace = {'name_a':object_1, 'name_b':object_2, ...}\n",
    "b_namespace = {'name_a':object_3, 'name_b':object_4, ...}"
   ]
  },
  {
   "cell_type": "markdown",
   "metadata": {},
   "source": [
    "For example, everytime we call a `for-loop` or define a function, it will create its own namespace.\n",
    "\n",
    "We'll tackle more about namespace in the later part of this tutorial."
   ]
  }
 ],
 "metadata": {
  "kernelspec": {
   "display_name": "Python 3",
   "language": "python",
   "name": "python3"
  },
  "language_info": {
   "codemirror_mode": {
    "name": "ipython",
    "version": 3
   },
   "file_extension": ".py",
   "mimetype": "text/x-python",
   "name": "python",
   "nbconvert_exporter": "python",
   "pygments_lexer": "ipython3",
   "version": "3.4.4"
  }
 },
 "nbformat": 4,
 "nbformat_minor": 0
}
