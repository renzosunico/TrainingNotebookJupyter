{
 "cells": [
  {
   "cell_type": "markdown",
   "metadata": {},
   "source": [
    "# 6.6 Dictionaries\n",
    "\n",
    "> Dictionaries are Python's built-in associative data type. A dictionary is made of __key-value pairs__ where each key corresponds to a value. Like sets, __dictionaries are unordered__. \n",
    "\n",
    "> A few notes about keys and values: * The key must be immutable and hashable while the value can be of any type. Common examples of keys are tuples, strings and numbers. * A single dictionary can contain keys of varying types and values of varying types.\n",
    "\n",
    "Each key is separated from its value by a colon (`:`), the items are separated by commas, and the whole thing is enclosed in curly braces:"
   ]
  },
  {
   "cell_type": "code",
   "execution_count": 1,
   "metadata": {
    "collapsed": true
   },
   "outputs": [],
   "source": [
    "my_dictionary =  {'key1' : 1, 'key2' : 2, 'key3' : 3}"
   ]
  },
  {
   "cell_type": "markdown",
   "metadata": {},
   "source": [
    "The example above is a dictionary called __`my_dictionary`__ with three key-value pairs:\n",
    "\n",
    "- __`'key1'`__ points to the value __`1`__, \n",
    "- __`'key2'`__ points to the value __`2`__, and\n",
    "- __`'key3'`__ points to the value __`3`__\n",
    "\n",
    "#### Facts about Dictionaries:\n",
    "\n",
    "- (a) __Keys__ are __unique__ within a dictionary while __values may not be__. \n",
    "- (b) The __values__ of a dictionary __can be of any type__;\n",
    "- (c) The __keys__ must be of an __immutable data type__ such as strings, numbers, or tuples. \n",
    "\n",
    "For example:"
   ]
  },
  {
   "cell_type": "code",
   "execution_count": 2,
   "metadata": {
    "collapsed": false
   },
   "outputs": [],
   "source": [
    "my_dictionary = {\n",
    "    'key1': 'value1',\n",
    "     123: 456,\n",
    "    ('key3', 'key4'): 'value3'\n",
    "}"
   ]
  },
  {
   "cell_type": "markdown",
   "metadata": {},
   "source": [
    "- (d) No duplicate key is allowed. When duplicate keys encountered during assignment, the last assignment wins.\n",
    "\n",
    "For example:"
   ]
  },
  {
   "cell_type": "code",
   "execution_count": 3,
   "metadata": {
    "collapsed": false
   },
   "outputs": [
    {
     "data": {
      "text/plain": [
       "'Bob'"
      ]
     },
     "execution_count": 3,
     "metadata": {},
     "output_type": "execute_result"
    }
   ],
   "source": [
    "# Run the code to see the result\n",
    "my_dictionary = {\n",
    "    'Name':'John',\n",
    "    'Age':35,\n",
    "    'Name': 'Bob'\n",
    "}\n",
    "\n",
    "my_dictionary['Name']"
   ]
  },
  {
   "cell_type": "markdown",
   "metadata": {},
   "source": [
    "An empty dictionary without any items is written either with just two curly braces or we may also use the __`dict()`__ class, like this:"
   ]
  },
  {
   "cell_type": "code",
   "execution_count": 4,
   "metadata": {
    "collapsed": true
   },
   "outputs": [],
   "source": [
    "dictionary1 = {}\n",
    "dictionary2 = dict()"
   ]
  },
  {
   "cell_type": "markdown",
   "metadata": {},
   "source": [
    "Dictionaries are useful for things like phone books (pairing a name with a phone number), login pages like pairing a username with a password, and lots more.\n",
    "\n",
    "## 6.6.1 Accessing Values in a Dictionary\n",
    "\n",
    "To access dictionary elements, you can use the familiar square brackets along with the key to obtain its value. "
   ]
  },
  {
   "cell_type": "code",
   "execution_count": 5,
   "metadata": {
    "collapsed": false
   },
   "outputs": [
    {
     "data": {
      "text/plain": [
       "'Eric'"
      ]
     },
     "execution_count": 5,
     "metadata": {},
     "output_type": "execute_result"
    }
   ],
   "source": [
    "my_dictionary = {'Name': 'Eric', 'Age':22}\n",
    "\n",
    "my_dictionary['Name']"
   ]
  },
  {
   "cell_type": "markdown",
   "metadata": {},
   "source": [
    "In Python 3.x, when checking whether a key exists in a dictionary, the membership operator `in` can be used:"
   ]
  },
  {
   "cell_type": "code",
   "execution_count": 6,
   "metadata": {
    "collapsed": false
   },
   "outputs": [
    {
     "name": "stdout",
     "output_type": "stream",
     "text": [
      "Eric\n"
     ]
    }
   ],
   "source": [
    "if 'Name' in my_dictionary:\n",
    "    print(my_dictionary['Name'])\n",
    "else:\n",
    "    print(\"No such key\")"
   ]
  },
  {
   "cell_type": "markdown",
   "metadata": {},
   "source": [
    "In Python 2.x, to check for dictionary keys, a dictionary method `has_key()` is available:"
   ]
  },
  {
   "cell_type": "code",
   "execution_count": 7,
   "metadata": {
    "collapsed": false
   },
   "outputs": [
    {
     "ename": "AttributeError",
     "evalue": "'dict' object has no attribute 'has_key'",
     "output_type": "error",
     "traceback": [
      "\u001b[0;31m---------------------------------------------------------------------------\u001b[0m",
      "\u001b[0;31mAttributeError\u001b[0m                            Traceback (most recent call last)",
      "\u001b[0;32m<ipython-input-7-4584d1b6a34c>\u001b[0m in \u001b[0;36m<module>\u001b[0;34m()\u001b[0m\n\u001b[0;32m----> 1\u001b[0;31m \u001b[0;32mif\u001b[0m \u001b[0mmy_dictionary\u001b[0m\u001b[0;34m.\u001b[0m\u001b[0mhas_key\u001b[0m\u001b[0;34m(\u001b[0m\u001b[0;34m'Name'\u001b[0m\u001b[0;34m)\u001b[0m\u001b[0;34m:\u001b[0m  \u001b[0;31m# only works in Python 2.x\u001b[0m\u001b[0;34m\u001b[0m\u001b[0m\n\u001b[0m\u001b[1;32m      2\u001b[0m     \u001b[0mprint\u001b[0m\u001b[0;34m(\u001b[0m\u001b[0mmy_dictionary\u001b[0m\u001b[0;34m[\u001b[0m\u001b[0;34m'Name'\u001b[0m\u001b[0;34m]\u001b[0m\u001b[0;34m)\u001b[0m\u001b[0;34m\u001b[0m\u001b[0m\n\u001b[1;32m      3\u001b[0m \u001b[0;32melse\u001b[0m\u001b[0;34m:\u001b[0m\u001b[0;34m\u001b[0m\u001b[0m\n\u001b[1;32m      4\u001b[0m     \u001b[0mprint\u001b[0m\u001b[0;34m(\u001b[0m\u001b[0;34m\"No such key\"\u001b[0m\u001b[0;34m)\u001b[0m\u001b[0;34m\u001b[0m\u001b[0m\n",
      "\u001b[0;31mAttributeError\u001b[0m: 'dict' object has no attribute 'has_key'"
     ]
    }
   ],
   "source": [
    "if my_dictionary.has_key('Name'):  # only works in Python 2.x\n",
    "    print(my_dictionary['Name'])\n",
    "else:\n",
    "    print(\"No such key\")"
   ]
  },
  {
   "cell_type": "markdown",
   "metadata": {},
   "source": [
    "## 6.6.2 Adding New Entries\n",
    "\n",
    "Dictionaries are \"mutable\" which means they can be changed after they are created. We can add new key/value pairs to the dictionary. \n",
    "\n",
    "Here's the syntax:"
   ]
  },
  {
   "cell_type": "code",
   "execution_count": 11,
   "metadata": {
    "collapsed": false
   },
   "outputs": [
    {
     "ename": "NameError",
     "evalue": "name 'dict_name' is not defined",
     "output_type": "error",
     "traceback": [
      "\u001b[0;31m---------------------------------------------------------------------------\u001b[0m",
      "\u001b[0;31mNameError\u001b[0m                                 Traceback (most recent call last)",
      "\u001b[0;32m<ipython-input-11-da296a0913c0>\u001b[0m in \u001b[0;36m<module>\u001b[0;34m()\u001b[0m\n\u001b[0;32m----> 1\u001b[0;31m \u001b[0mdict_name\u001b[0m\u001b[0;34m[\u001b[0m\u001b[0;34m'new_key'\u001b[0m\u001b[0;34m]\u001b[0m \u001b[0;34m=\u001b[0m \u001b[0;34m'new_value'\u001b[0m\u001b[0;34m\u001b[0m\u001b[0m\n\u001b[0m",
      "\u001b[0;31mNameError\u001b[0m: name 'dict_name' is not defined"
     ]
    }
   ],
   "source": [
    "dict_name['new_key'] = 'new_value'"
   ]
  },
  {
   "cell_type": "markdown",
   "metadata": {},
   "source": [
    "Now let's try to add a new key-value pair to our existing dictionary:"
   ]
  },
  {
   "cell_type": "code",
   "execution_count": 13,
   "metadata": {
    "collapsed": false
   },
   "outputs": [
    {
     "name": "stdout",
     "output_type": "stream",
     "text": [
      "Male\n"
     ]
    }
   ],
   "source": [
    "my_dictionary = {'Name': 'Eric', 'Age':22}\n",
    "\n",
    "my_dictionary['Gender']='Male'\n",
    "\n",
    "print(my_dictionary['Gender'])"
   ]
  },
  {
   "cell_type": "markdown",
   "metadata": {},
   "source": [
    "Here's another example:"
   ]
  },
  {
   "cell_type": "code",
   "execution_count": 14,
   "metadata": {
    "collapsed": false
   },
   "outputs": [
    {
     "name": "stdout",
     "output_type": "stream",
     "text": [
      "Pizza costs 50\n",
      "Ramen costs 180\n"
     ]
    }
   ],
   "source": [
    "# A dictionary of food and its prices\n",
    "food = { \n",
    "    'Pizza': 50,\n",
    "    'Spaghetti': 150,\n",
    "    'Ramen': 180,\n",
    "    'Garlic Bread': 40,\n",
    "    'Carbonara': 150\n",
    "}\n",
    "\n",
    "# Add more food\n",
    "food['Burger'] = 120\n",
    "food['Ham and Cheese sandwich'] = 80\n",
    "\n",
    "print(\"Pizza costs\", food['Pizza'])\n",
    "print(\"Ramen costs\", food['Ramen'])"
   ]
  },
  {
   "cell_type": "markdown",
   "metadata": {},
   "source": [
    "## 6.6.3 Changing the Entries\n",
    "\n",
    "A new value can be associated with a key by assigning a value to the key."
   ]
  },
  {
   "cell_type": "code",
   "execution_count": 15,
   "metadata": {
    "collapsed": false
   },
   "outputs": [
    {
     "ename": "NameError",
     "evalue": "name 'new_value' is not defined",
     "output_type": "error",
     "traceback": [
      "\u001b[0;31m---------------------------------------------------------------------------\u001b[0m",
      "\u001b[0;31mNameError\u001b[0m                                 Traceback (most recent call last)",
      "\u001b[0;32m<ipython-input-15-6331175a816d>\u001b[0m in \u001b[0;36m<module>\u001b[0;34m()\u001b[0m\n\u001b[1;32m      1\u001b[0m \u001b[0;31m# Syntax\u001b[0m\u001b[0;34m\u001b[0m\u001b[0;34m\u001b[0m\u001b[0m\n\u001b[0;32m----> 2\u001b[0;31m \u001b[0mdict_name\u001b[0m\u001b[0;34m[\u001b[0m\u001b[0mkey\u001b[0m\u001b[0;34m]\u001b[0m \u001b[0;34m=\u001b[0m \u001b[0mnew_value\u001b[0m\u001b[0;34m\u001b[0m\u001b[0m\n\u001b[0m",
      "\u001b[0;31mNameError\u001b[0m: name 'new_value' is not defined"
     ]
    }
   ],
   "source": [
    "# Syntax\n",
    "dict_name[key] = new_value"
   ]
  },
  {
   "cell_type": "code",
   "execution_count": 16,
   "metadata": {
    "collapsed": false
   },
   "outputs": [
    {
     "data": {
      "text/plain": [
       "'FR'"
      ]
     },
     "execution_count": 16,
     "metadata": {},
     "output_type": "execute_result"
    }
   ],
   "source": [
    "# A dictionary of countries and its abbreviation\n",
    "country = {\n",
    "    'Philippines': 'PH',\n",
    "    'Japan': 'JP',\n",
    "    'Korea': 'KR',\n",
    "    'United States of America': 'USA',\n",
    "    'France': 'IT'\n",
    "}\n",
    "\n",
    "# Change the value of 'France'\n",
    "country['France'] = 'FR'\n",
    "\n",
    "country['France']"
   ]
  },
  {
   "cell_type": "markdown",
   "metadata": {},
   "source": [
    "## 6.6.4 Deleting Entries\n",
    "\n",
    "Items can be removed from a dictionary with the __`del`__ statement.\n",
    "\n",
    "Here's the syntax:"
   ]
  },
  {
   "cell_type": "code",
   "execution_count": 19,
   "metadata": {
    "collapsed": false
   },
   "outputs": [],
   "source": [
    "dict_name = { 'key_name': 'renzo'}\n",
    "del dict_name['key_name']"
   ]
  },
  {
   "cell_type": "markdown",
   "metadata": {},
   "source": [
    "The example above will remove the key __`key_name`__ AND it's associated value from the dictionary."
   ]
  },
  {
   "cell_type": "code",
   "execution_count": 20,
   "metadata": {
    "collapsed": false
   },
   "outputs": [
    {
     "data": {
      "text/plain": [
       "{'Carbonara': 150, 'Pizza': 50, 'Ramen': 180, 'Spaghetti': 150}"
      ]
     },
     "execution_count": 20,
     "metadata": {},
     "output_type": "execute_result"
    }
   ],
   "source": [
    "food = { \n",
    "    'Pizza': 50,\n",
    "    'Spaghetti': 150,\n",
    "    'Ramen': 180,\n",
    "    'Garlic Bread': 40,\n",
    "    'Carbonara': 150\n",
    "}\n",
    "\n",
    "# Delete the key 'Garlic Bread' along with its value\n",
    "del food['Garlic Bread']\n",
    "\n",
    "food"
   ]
  },
  {
   "cell_type": "markdown",
   "metadata": {},
   "source": [
    "## 6.6.5 Other methods\n",
    "\n",
    "### `len()`\n",
    "\n",
    "The length of a dictionary is the number of key-value pairs it has. Each pair counts only __once__, even if the value is a list."
   ]
  },
  {
   "cell_type": "code",
   "execution_count": 21,
   "metadata": {
    "collapsed": false
   },
   "outputs": [
    {
     "data": {
      "text/plain": [
       "2"
      ]
     },
     "execution_count": 21,
     "metadata": {},
     "output_type": "execute_result"
    }
   ],
   "source": [
    "# Run the code to see how len() works\n",
    "\n",
    "my_dictionary = {'Name': 'Eric', 'Age':22}\n",
    "\n",
    "len(my_dictionary)"
   ]
  },
  {
   "cell_type": "markdown",
   "metadata": {},
   "source": [
    "### `str()`\n",
    "\n",
    "Produces a printable string representation of a dictionary."
   ]
  },
  {
   "cell_type": "code",
   "execution_count": 25,
   "metadata": {
    "collapsed": false
   },
   "outputs": [
    {
     "data": {
      "text/plain": [
       "\"{'Name': 'Eric', 'Age': 22}\""
      ]
     },
     "execution_count": 25,
     "metadata": {},
     "output_type": "execute_result"
    }
   ],
   "source": [
    "# Run the code to see how str() works\n",
    "\n",
    "my_dictionary = {'Name': 'Eric', 'Age': 22}\n",
    "\n",
    "str(my_dictionary) # prints the equivalent string\n",
    "#print(my_dictionary)"
   ]
  },
  {
   "cell_type": "markdown",
   "metadata": {},
   "source": [
    "### `dict.items()` or `dict.iteritems()` in Python 2.x\n",
    "\n",
    "Returns list of the dictonary's key-value pairs."
   ]
  },
  {
   "cell_type": "code",
   "execution_count": null,
   "metadata": {
    "collapsed": false
   },
   "outputs": [],
   "source": [
    "my_dictionary = {'Name': 'Eric', 'Age': 22}\n",
    "\n",
    "dict.items(my_dictionary) or my_dictionary.items()  # my_dictionary.iteritems() in Python 2.x"
   ]
  },
  {
   "cell_type": "markdown",
   "metadata": {},
   "source": [
    "### `dict.keys()` or `dict.iterkeys()` in Python 2.x\n",
    "\n",
    "Returns list of the dictonary's keys."
   ]
  },
  {
   "cell_type": "code",
   "execution_count": 29,
   "metadata": {
    "collapsed": false
   },
   "outputs": [
    {
     "data": {
      "text/plain": [
       "dict_keys(['Name', 'Age'])"
      ]
     },
     "execution_count": 29,
     "metadata": {},
     "output_type": "execute_result"
    }
   ],
   "source": [
    "my_dictionary = {'Name': 'Eric', 'Age': 22}\n",
    "\n",
    "dict.keys(my_dictionary) or my_dictionary.keys()  # my_dictionary.iterkeys() in Python 2.x"
   ]
  },
  {
   "cell_type": "markdown",
   "metadata": {},
   "source": [
    "### `dict.values()` or `dict.itervalues()` in Python 2.x\n",
    "\n",
    "Returns a list of the dictionary's values."
   ]
  },
  {
   "cell_type": "code",
   "execution_count": 27,
   "metadata": {
    "collapsed": false
   },
   "outputs": [
    {
     "data": {
      "text/plain": [
       "dict_values(['Eric', 22])"
      ]
     },
     "execution_count": 27,
     "metadata": {},
     "output_type": "execute_result"
    }
   ],
   "source": [
    "my_dictionary = {'Name': 'Eric', 'Age': 22}\n",
    "\n",
    "dict.values(my_dictionary) or my_dictionary.values()  # my_dictionary.itervalues() in Python 2.x"
   ]
  },
  {
   "cell_type": "code",
   "execution_count": null,
   "metadata": {
    "collapsed": true
   },
   "outputs": [],
   "source": []
  }
 ],
 "metadata": {
  "kernelspec": {
   "display_name": "Python 3",
   "language": "python",
   "name": "python3"
  },
  "language_info": {
   "codemirror_mode": {
    "name": "ipython",
    "version": 3
   },
   "file_extension": ".py",
   "mimetype": "text/x-python",
   "name": "python",
   "nbconvert_exporter": "python",
   "pygments_lexer": "ipython3",
   "version": "3.4.4"
  }
 },
 "nbformat": 4,
 "nbformat_minor": 0
}
