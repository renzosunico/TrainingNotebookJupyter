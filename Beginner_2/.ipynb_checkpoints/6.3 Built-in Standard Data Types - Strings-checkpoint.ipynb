{
 "cells": [
  {
   "cell_type": "markdown",
   "metadata": {},
   "source": [
    "# 6.3 Strings \n",
    "\n",
    "Strings store characters and have many built-in convenience methods that let you modify their content. Strings are immutable, meaning they cannot be changed in place.\n",
    "\n",
    "### Strings in Python 2.x vs. Strings in Python 3.x\n",
    "\n",
    "Python 2.x and 3.x both have two types of strings:\n",
    "\n",
    "> - __byte sequences__, which have to be __literal characters__ from the __ASCII alphabet__.\n",
    "\n",
    "> - __Unicode strings__, which can hold onto almost any character you want to put in there.\n",
    "\n",
    "In Unicode, you can include other languages, and with the right encoding, emoji.\n",
    "\n",
    "__Python 2.x__ :\n",
    "\n",
    ">You had to mark every single Unicode string with a u at the beginning, like __`u'Hello'`__. You have to use Unicode strings all the time! (If you forget the __`u`__, you will have a byte sequence instead.\n",
    "\n",
    "__Python 3.x__ :\n",
    "\n",
    ">All strings are now Unicode by default and you have to mark byte sequences with __`b`__. Using Unicode is a much more common scenario so it has reduced development time for everyone that does Python 3.x.\n",
    "\n",
    "If you have or want to support both, you can still mark strings with u in Python 3.x.\n",
    "\n",
    "## 6.3.1 Quotations\n",
    "\n",
    "Strings are amongst the most popular types in Python. We can create them simply by enclosing characters in quotes. Python treats single quotes the same as double quotes.\n",
    "\n",
    "Creating strings is as simple as assigning a value to a variable:"
   ]
  },
  {
   "cell_type": "code",
   "execution_count": 1,
   "metadata": {
    "collapsed": true
   },
   "outputs": [],
   "source": [
    "my_string1 = 'Hello, World!'\n",
    "my_string2 = \"Hello, World!\""
   ]
  },
  {
   "cell_type": "markdown",
   "metadata": {},
   "source": [
    "One advantage of using double quotes is that, you don't have to worry about printing with apostrophes:"
   ]
  },
  {
   "cell_type": "code",
   "execution_count": 2,
   "metadata": {
    "collapsed": false
   },
   "outputs": [
    {
     "name": "stdout",
     "output_type": "stream",
     "text": [
      "Tell me why, ain't nothin' but a heartbreak.\n"
     ]
    }
   ],
   "source": [
    "string_sample1 = \"Tell me why, ain't nothin' but a heartbreak.\"\n",
    "\n",
    "print(string_sample1)"
   ]
  },
  {
   "cell_type": "markdown",
   "metadata": {},
   "source": [
    "This is the same example using single quotes:"
   ]
  },
  {
   "cell_type": "code",
   "execution_count": 3,
   "metadata": {
    "collapsed": false
   },
   "outputs": [
    {
     "name": "stdout",
     "output_type": "stream",
     "text": [
      "Tell me why, ain't nothin' but a heartbreak.\n"
     ]
    }
   ],
   "source": [
    "string_sample2 = 'Tell me why, ain\\'t nothin\\' but a heartbreak.'\n",
    "\n",
    "print(string_sample2)"
   ]
  },
  {
   "cell_type": "markdown",
   "metadata": {},
   "source": [
    "You may escape the apostrophe (__`'`__) using a backslash (__`\\`__) as seen on the example above. \n",
    "\n",
    "## 6.3.2 Escape characters\n",
    "\n",
    "This __`\\`__ (backslash) character, as seen on the previous example, is used to escape characters that otherwise have a special meaning, such as newline, backslash itself, or the quote character.\n",
    "\n",
    "An important escape sequence is to escape a single-quote __`'`__ or double-quote __`\"`__. Imagine you have a string that uses double-quotes and you want to put a double-quote inside the string.\n",
    "\n",
    "To solve this problem you escape double-quotes and single-quotes so Python knows to include in the string. For example:"
   ]
  },
  {
   "cell_type": "code",
   "execution_count": 4,
   "metadata": {
    "collapsed": false
   },
   "outputs": [
    {
     "name": "stdout",
     "output_type": "stream",
     "text": [
      "I am 6'2\" tall.\n",
      "I am 6'2\" tall.\n"
     ]
    }
   ],
   "source": [
    "escape_1 = \"I am 6'2\\\" tall.\" # escape double-quote inside string\n",
    "escape_2 = 'I am 6\\'2\" tall.' # escape single-quote inside string\n",
    "\n",
    "# Now to check the results! Run the code.\n",
    "\n",
    "print(escape_1)\n",
    "print(escape_2)"
   ]
  },
  {
   "cell_type": "markdown",
   "metadata": {},
   "source": [
    "#### Escape Sequences\n",
    "\n",
    "These are the escape sequences Python supports:\n",
    "\n",
    "![Beginner_2](./images/img_escape_characters.png)\n",
    "\n",
    "Here are some examples. Run the code to see the result:"
   ]
  },
  {
   "cell_type": "code",
   "execution_count": 5,
   "metadata": {
    "collapsed": false
   },
   "outputs": [
    {
     "name": "stdout",
     "output_type": "stream",
     "text": [
      "\tThis string is tabbed.\n"
     ]
    }
   ],
   "source": [
    "# Tab\n",
    "string_tab = \"\\tThis string is tabbed.\"\n",
    "\n",
    "print(string_tab)"
   ]
  },
  {
   "cell_type": "code",
   "execution_count": 6,
   "metadata": {
    "collapsed": false
   },
   "outputs": [
    {
     "name": "stdout",
     "output_type": "stream",
     "text": [
      "This will split\n",
      "on a line.\n"
     ]
    }
   ],
   "source": [
    "# Split\n",
    "string_split = \"This will split\\non a line.\"\n",
    "\n",
    "print(string_split)"
   ]
  },
  {
   "cell_type": "code",
   "execution_count": 7,
   "metadata": {
    "collapsed": false
   },
   "outputs": [
    {
     "name": "stdout",
     "output_type": "stream",
     "text": [
      "This \\ is \\ a \\ backslashed \\ string.\n"
     ]
    }
   ],
   "source": [
    "# Backslash\n",
    "string_backslash = \"This \\\\ is \\\\ a \\\\ backslashed \\\\ string.\"\n",
    "\n",
    "print(string_backslash)"
   ]
  },
  {
   "cell_type": "code",
   "execution_count": 8,
   "metadata": {
    "collapsed": false
   },
   "outputs": [
    {
     "name": "stdout",
     "output_type": "stream",
     "text": [
      "\n",
      "My to do list:\n",
      "\t* Study Python.\n",
      "\t* Be great at Python.\n",
      "\t* Conquer the world.\n",
      "\n"
     ]
    }
   ],
   "source": [
    "# List\n",
    "string_list = \"\"\"\n",
    "My to do list:\n",
    "\\t* Study Python.\n",
    "\\t* Be great at Python.\n",
    "\\t* Conquer the world.\n",
    "\"\"\"\n",
    "\n",
    "print(string_list)"
   ]
  },
  {
   "cell_type": "markdown",
   "metadata": {},
   "source": [
    "## 6.3.3 Methods \n",
    "\n",
    "Here are a few useful methods for strings:\n",
    "\n",
    "### `.upper()` and `.lower()` \n",
    "- Performing the __`.upper()`__ method on a string converts all of the characters to uppercase;\n",
    "- Performing the __`.lower()`__ method converts all of the characters to lowercase.\n",
    "\n",
    "For example:"
   ]
  },
  {
   "cell_type": "code",
   "execution_count": 9,
   "metadata": {
    "collapsed": false
   },
   "outputs": [
    {
     "name": "stdout",
     "output_type": "stream",
     "text": [
      "HELLO, WORLD!\n"
     ]
    }
   ],
   "source": [
    "# using .upper()\n",
    "my_string1 = \"hello, world!\"\n",
    "\n",
    "print(my_string1.upper())"
   ]
  },
  {
   "cell_type": "code",
   "execution_count": 10,
   "metadata": {
    "collapsed": false
   },
   "outputs": [
    {
     "name": "stdout",
     "output_type": "stream",
     "text": [
      "hello, world!\n",
      "hello, world!\n"
     ]
    }
   ],
   "source": [
    "# using .lower()\n",
    "\n",
    "my_string2 = \"Hello, World!\"\n",
    "my_string3 = \"HI, PYTHON!\"\n",
    "\n",
    "print(my_string2.lower())\n",
    "print(my_string2.lower())"
   ]
  },
  {
   "cell_type": "markdown",
   "metadata": {},
   "source": [
    "### `.count()`\n",
    "\n",
    "The __`.count()`__ method adds up the number of times a character or sequence of characters appears in a string.\n",
    "\n",
    "For example:"
   ]
  },
  {
   "cell_type": "code",
   "execution_count": 13,
   "metadata": {
    "collapsed": false
   },
   "outputs": [
    {
     "data": {
      "text/plain": [
       "6"
      ]
     },
     "execution_count": 13,
     "metadata": {},
     "output_type": "execute_result"
    }
   ],
   "source": [
    "my_string4 = \"Oscar loves to google words that start with o's\"\n",
    "my_string4.count(\"o\") "
   ]
  },
  {
   "cell_type": "markdown",
   "metadata": {},
   "source": [
    "On the example above, it didn't count the 'O' in Oscar, because it is in case sensitive, Meaning 'O' is different from 'o'.\n",
    "\n",
    "### `.find()`\n",
    "\n",
    "We use __`.find()`__ to search for a specific character/s in a string.\n",
    "\n",
    "For example:"
   ]
  },
  {
   "cell_type": "code",
   "execution_count": 14,
   "metadata": {
    "collapsed": false
   },
   "outputs": [
    {
     "data": {
      "text/plain": [
       "13"
      ]
     },
     "execution_count": 14,
     "metadata": {},
     "output_type": "execute_result"
    }
   ],
   "source": [
    "# Run the code\n",
    "\n",
    "my_string5 = \"On the other hand, Python is a great language.\"\n",
    "my_string5.find(\"hand\")"
   ]
  },
  {
   "cell_type": "markdown",
   "metadata": {},
   "source": [
    "The results tell us that “hand” begins at the 13th position in the sequence.\n",
    "\n",
    "### `.replace()`\n",
    "\n",
    "The method __`replace()`__ returns a copy of the string in which the occurrences of old have been replaced with new, optionally restricting the number of replacements to max. \n",
    "\n",
    "##### Syntax \n",
    "\n",
    "`str.replace(old, new[, max])`\n",
    "\n",
    "##### Parameters \n",
    "\n",
    "- old -- This is old substring to be replaced.\n",
    "\n",
    "- new -- This is new substring, which would replace old substring.\n",
    "\n",
    "- max -- If this optional argument max is given, only the first count occurrences are replaced.\n",
    "\n",
    "##### Return Value\n",
    "\n",
    "This method returns a copy of the string with all occurrences of substring old replaced by new. If the optional argument max is given, only the first count occurrences are replaced.\n",
    "\n",
    "For example:"
   ]
  },
  {
   "cell_type": "code",
   "execution_count": 15,
   "metadata": {
    "collapsed": false
   },
   "outputs": [
    {
     "name": "stdout",
     "output_type": "stream",
     "text": [
      "this is string example....amazing!!! this is really string\n"
     ]
    }
   ],
   "source": [
    "str = \"this is string example....wow!!! this is really string\"\n",
    "print(str.replace(\"wow\", \"amazing\"))"
   ]
  },
  {
   "cell_type": "markdown",
   "metadata": {},
   "source": [
    "## 6.4.4 String Formatting \n",
    "\n",
    "The string format operator (__`%`__) is unique to strings and makes up for the pack of having functions from C's `printf()`.\n",
    "\n",
    "Simple positional formatting is probably the most common use-case. Use it if the order of your arguments is not likely to change and you only have very few elements you want to concatenate.\n",
    "\n",
    "Since the elements are not represented by something as descriptive as a name this simple style should only be used to format a relatively small number of elements.\n",
    "\n",
    "For example:"
   ]
  },
  {
   "cell_type": "code",
   "execution_count": 16,
   "metadata": {
    "collapsed": false
   },
   "outputs": [
    {
     "name": "stdout",
     "output_type": "stream",
     "text": [
      "I love Python\n"
     ]
    }
   ],
   "source": [
    "print((\"I love %s\") %(\"Python\")) "
   ]
  },
  {
   "cell_type": "markdown",
   "metadata": {},
   "source": [
    "Note that we used __`%s`__ for string.\n",
    "\n",
    "Here's another example:"
   ]
  },
  {
   "cell_type": "code",
   "execution_count": 17,
   "metadata": {
    "collapsed": false
   },
   "outputs": [
    {
     "name": "stdout",
     "output_type": "stream",
     "text": [
      "I love Pizza.\n",
      "My food is only 50 Pesos\n",
      "Pizza costs 50\n"
     ]
    }
   ],
   "source": [
    "food = \"Pizza\"\n",
    "price = 50\n",
    "\n",
    "print((\"I love %s.\") %(food))\n",
    "print((\"My food is only %d Pesos\") %(price))\n",
    "print((\"%s costs %d\") %(food, price))"
   ]
  },
  {
   "cell_type": "markdown",
   "metadata": {},
   "source": [
    "Here is the list of complete set of symbols which can be used along with __`%`__:\n",
    "\n",
    "![Beginner_2](./images/img_string_formatting.png)\n",
    "\n",
    "### .format()\n",
    "\n",
    "With new style formatting it is possible to give placeholders an explicit positional index. This allows for re-arranging the order of display without changing the arguments."
   ]
  },
  {
   "cell_type": "code",
   "execution_count": 18,
   "metadata": {
    "collapsed": false
   },
   "outputs": [
    {
     "name": "stdout",
     "output_type": "stream",
     "text": [
      "two one\n"
     ]
    }
   ],
   "source": [
    "print('{1} {0}'.format('one','two'))"
   ]
  },
  {
   "cell_type": "markdown",
   "metadata": {},
   "source": [
    "Here's a comparison of the Old and the new string formatting:"
   ]
  },
  {
   "cell_type": "code",
   "execution_count": 19,
   "metadata": {
    "collapsed": false
   },
   "outputs": [
    {
     "name": "stdout",
     "output_type": "stream",
     "text": [
      "one two\n",
      "one two\n"
     ]
    }
   ],
   "source": [
    "# Old\n",
    "print('%s %s' % ('one', 'two'))\n",
    "\n",
    "# New\n",
    "print('{} {}'.format('one', 'two'))"
   ]
  },
  {
   "cell_type": "markdown",
   "metadata": {},
   "source": [
    "## 6.4.5 String Slicing\n",
    "\n",
    "String slicing extracts elements based on a start and stop.\n",
    "\n",
    "We specify an optional first index, an optional last index, and an optional step. \n",
    "\n",
    "For example:"
   ]
  },
  {
   "cell_type": "code",
   "execution_count": 20,
   "metadata": {
    "collapsed": false
   },
   "outputs": [
    {
     "name": "stdout",
     "output_type": "stream",
     "text": [
      " Love\n"
     ]
    }
   ],
   "source": [
    "my_string = \"I Love Python\"\n",
    "\n",
    "print(my_string[1:6]) # Start at index 1; Stop at index 4"
   ]
  },
  {
   "cell_type": "code",
   "execution_count": 21,
   "metadata": {
    "collapsed": false
   },
   "outputs": [
    {
     "name": "stdout",
     "output_type": "stream",
     "text": [
      "Love Pytho\n"
     ]
    }
   ],
   "source": [
    "my_string = \"I Love Python\"\n",
    "\n",
    "print(my_string[2:-1]) # Start from index 2 through index 1 from the last"
   ]
  },
  {
   "cell_type": "code",
   "execution_count": 22,
   "metadata": {
    "collapsed": false
   },
   "outputs": [
    {
     "name": "stdout",
     "output_type": "stream",
     "text": [
      "ve Python\n"
     ]
    }
   ],
   "source": [
    "my_string = \"I Love Python\"\n",
    "\n",
    "print(my_string[4:]) # Start at index 4 til the end of the string"
   ]
  },
  {
   "cell_type": "code",
   "execution_count": 23,
   "metadata": {
    "collapsed": false
   },
   "outputs": [
    {
     "name": "stdout",
     "output_type": "stream",
     "text": [
      "I Lo\n"
     ]
    }
   ],
   "source": [
    "my_string = \"I Love Python\"\n",
    "\n",
    "print(my_string[:4]) # Start through index 4"
   ]
  },
  {
   "cell_type": "code",
   "execution_count": 24,
   "metadata": {
    "collapsed": false
   },
   "outputs": [
    {
     "name": "stdout",
     "output_type": "stream",
     "text": [
      "ILv yhn\n"
     ]
    }
   ],
   "source": [
    "my_string = \"I Love Python\"\n",
    "\n",
    "print(my_string[::2]) # Start through index 2(from end), skipping 2 places each time "
   ]
  },
  {
   "cell_type": "code",
   "execution_count": 25,
   "metadata": {
    "collapsed": false
   },
   "outputs": [
    {
     "name": "stdout",
     "output_type": "stream",
     "text": [
      "nohtyP evoL I\n"
     ]
    }
   ],
   "source": [
    "my_string = \"I Love Python\"\n",
    "\n",
    "print(my_string[::-1]) # Revert the entire string"
   ]
  },
  {
   "cell_type": "markdown",
   "metadata": {},
   "source": [
    "## Exercises\n",
    "\n",
    "(1) Count all the vowels, uppercase and lowercase in this sentence and print the result:"
   ]
  },
  {
   "cell_type": "code",
   "execution_count": 26,
   "metadata": {
    "collapsed": false
   },
   "outputs": [
    {
     "name": "stdout",
     "output_type": "stream",
     "text": [
      "11\n"
     ]
    }
   ],
   "source": [
    "sentence = \"The quick brown fox jumps over the lazy dog\"\n",
    "\n",
    "# Write your code below:\n",
    "print(sentence.count('a') + sentence.count('e') + sentence.count('i') + sentence.count('o') + sentence.count('u'))\n",
    "\n"
   ]
  },
  {
   "cell_type": "markdown",
   "metadata": {},
   "source": [
    "(2) Convert the sentence in all uppercase letters and print the result.\n",
    "\n",
    "(3) Convert the same sentence in all lowercase letters and print the result."
   ]
  },
  {
   "cell_type": "code",
   "execution_count": 27,
   "metadata": {
    "collapsed": false
   },
   "outputs": [
    {
     "name": "stdout",
     "output_type": "stream",
     "text": [
      "I LOVE PYTHON SO MUCH.\n",
      "i love python so much.\n"
     ]
    }
   ],
   "source": [
    "sentence = \"i LoVe PyThOn sO MuCh.\"\n",
    "\n",
    "#Write your code below:\n",
    "print(sentence.upper())\n",
    "print(sentence.lower())\n",
    "\n"
   ]
  },
  {
   "cell_type": "code",
   "execution_count": null,
   "metadata": {
    "collapsed": true
   },
   "outputs": [],
   "source": []
  },
  {
   "cell_type": "code",
   "execution_count": null,
   "metadata": {
    "collapsed": true
   },
   "outputs": [],
   "source": []
  }
 ],
 "metadata": {
  "kernelspec": {
   "display_name": "Python 3",
   "language": "python",
   "name": "python3"
  },
  "language_info": {
   "codemirror_mode": {
    "name": "ipython",
    "version": 3
   },
   "file_extension": ".py",
   "mimetype": "text/x-python",
   "name": "python",
   "nbconvert_exporter": "python",
   "pygments_lexer": "ipython3",
   "version": "3.4.4"
  }
 },
 "nbformat": 4,
 "nbformat_minor": 0
}
