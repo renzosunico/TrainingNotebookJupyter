{
 "cells": [
  {
   "cell_type": "markdown",
   "metadata": {},
   "source": [
    "# 6.2 Numbers\n",
    "\n",
    "Number data types store numeric values. They are immutable data types, means that changing the value of a number data type results in a newly allocated object.\n",
    "\n",
    "Number objects are created when you assign a value to them:"
   ]
  },
  {
   "cell_type": "code",
   "execution_count": 1,
   "metadata": {
    "collapsed": true
   },
   "outputs": [],
   "source": [
    "var1 = 1\n",
    "var2 = 10"
   ]
  },
  {
   "cell_type": "markdown",
   "metadata": {},
   "source": [
    "## 6.2.1 Numeric Types\n",
    "\n",
    "#### a. int (signed integers)\n",
    "\n",
    "They are often called just integers or ints, are positive or negative whole numbers with __NO__ decimal point.\n",
    "\n",
    "#### b. long (long integers)\n",
    "\n",
    "Also called longs, they are integers of unlimited size, written like integers and followed by an uppercase or lowercase L.\n",
    "\n",
    "#### c. float (floating point real values) \n",
    "\n",
    "Also called floats, they represent real numbers and are written with a decimal point dividing the integer and fractional parts. Floats may also be in scientific notation, with E or e indicating the power of 10 (2.5e2 = 2.5 x 102 = 250).\n",
    "\n",
    "#### d. complex (complex numbers) \n",
    "\n",
    "Complex numbers are of the form a + bJ, where a and b are floats and J (or j) represents the square root of -1 (which is an imaginary number). The real part of the number is a, and the imaginary part is b. Complex numbers are not used much in Python programming.\n",
    "\n",
    "![Beginner_2](./images/img_numeric_types.png)\n",
    "\n",
    "## 6.2.2 min( )\n",
    "\n",
    "- The smallest of its arguments: the value closest to negative infinity. \n",
    "\n",
    "- This method returns smallest of its arguments.\n",
    "\n",
    "For example:"
   ]
  },
  {
   "cell_type": "code",
   "execution_count": 2,
   "metadata": {
    "collapsed": false
   },
   "outputs": [
    {
     "name": "stdout",
     "output_type": "stream",
     "text": [
      "-9\n"
     ]
    }
   ],
   "source": [
    "# Run the code to see the result\n",
    "\n",
    "print(min(89,34,13,2,78,96,-9, 8.19))"
   ]
  },
  {
   "cell_type": "code",
   "execution_count": 3,
   "metadata": {
    "collapsed": false
   },
   "outputs": [
    {
     "name": "stdout",
     "output_type": "stream",
     "text": [
      "abc\n"
     ]
    }
   ],
   "source": [
    "# It's not only applicable to numbers. Run the code to see the result\n",
    "\n",
    "print(min('salad','tomato', 'pizza', 'abc'))"
   ]
  },
  {
   "cell_type": "markdown",
   "metadata": {},
   "source": [
    "## 6.2.3 max( )\n",
    "\n",
    "- The method max returns the elements from the list with maximum value.\n",
    "- __`max`__ will return elements from the list with maximum value."
   ]
  },
  {
   "cell_type": "code",
   "execution_count": 4,
   "metadata": {
    "collapsed": false
   },
   "outputs": [
    {
     "name": "stdout",
     "output_type": "stream",
     "text": [
      "96\n"
     ]
    }
   ],
   "source": [
    "# Run the code to see the result\n",
    "\n",
    "print(max(89,34,13,2,78,96,-9, 8.19))"
   ]
  },
  {
   "cell_type": "code",
   "execution_count": 5,
   "metadata": {
    "collapsed": false
   },
   "outputs": [
    {
     "name": "stdout",
     "output_type": "stream",
     "text": [
      "tomato\n"
     ]
    }
   ],
   "source": [
    "# Run the code to see the result\n",
    "\n",
    "print(max('salad','tomato', 'pizza', 'abc'))"
   ]
  },
  {
   "cell_type": "markdown",
   "metadata": {},
   "source": [
    "## 6.2.4 abs( )\n",
    "\n",
    "- The function `abs()` returns absolute value of `x` - the (positive) distance between x and zero.\n",
    "- This method returns absolute value."
   ]
  },
  {
   "cell_type": "code",
   "execution_count": 6,
   "metadata": {
    "collapsed": false
   },
   "outputs": [
    {
     "name": "stdout",
     "output_type": "stream",
     "text": [
      "45\n",
      "7\n",
      "1.75\n",
      "1.34\n"
     ]
    }
   ],
   "source": [
    "# Run the code to see the result\n",
    "\n",
    "print(abs(45))\n",
    "print(abs(-7))\n",
    "print(abs(1.75))\n",
    "print(abs(-1.34))"
   ]
  },
  {
   "cell_type": "markdown",
   "metadata": {},
   "source": [
    "## 6.2.5 sqrt( )\n",
    "\n",
    "- The function __`sqrt()`__ returns the square root of __`x`__ for __`x > 0`__.\n",
    "- Note: This function is not accessible directly, so we need to import __`math`__ module and then we need to call this function using __`math`__ static object. ___Will emphasize more on modules later on. ___"
   ]
  },
  {
   "cell_type": "code",
   "execution_count": 7,
   "metadata": {
    "collapsed": false
   },
   "outputs": [
    {
     "name": "stdout",
     "output_type": "stream",
     "text": [
      "10.0\n"
     ]
    }
   ],
   "source": [
    "import math   # This will import math module\n",
    "\n",
    "print(math.sqrt(100))"
   ]
  },
  {
   "cell_type": "markdown",
   "metadata": {},
   "source": [
    "See more Mathematical Functions in the [Official Python Documentation](https://docs.python.org/3/library/math.html)."
   ]
  }
 ],
 "metadata": {
  "kernelspec": {
   "display_name": "Python 3",
   "language": "python",
   "name": "python3"
  },
  "language_info": {
   "codemirror_mode": {
    "name": "ipython",
    "version": 3
   },
   "file_extension": ".py",
   "mimetype": "text/x-python",
   "name": "python",
   "nbconvert_exporter": "python",
   "pygments_lexer": "ipython3",
   "version": "3.4.4"
  }
 },
 "nbformat": 4,
 "nbformat_minor": 0
}
