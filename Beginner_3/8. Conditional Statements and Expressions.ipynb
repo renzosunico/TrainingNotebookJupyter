{
 "cells": [
  {
   "cell_type": "markdown",
   "metadata": {},
   "source": [
    "# 8.1 If... elif... else\n",
    "\n",
    "Python's [`if`](https://docs.python.org/3.5/reference/compound_stmts.html#if) keyword can be used as part of a statement or as part of an expression.\n",
    "\n",
    "## 8.1.1 [Conditional statement](https://docs.python.org/3.5/tutorial/controlflow.html#if-statements):"
   ]
  },
  {
   "cell_type": "code",
   "execution_count": 1,
   "metadata": {
    "collapsed": false
   },
   "outputs": [
    {
     "name": "stdout",
     "output_type": "stream",
     "text": [
      "Please enter an integer: 10\n",
      "Greater than zero\n",
      "x =  10\n",
      "Please enter an integer: l\n",
      "It's something else... invalid literal for int() with base 10: 'l'\n"
     ]
    }
   ],
   "source": [
    "while True:\n",
    "    try:\n",
    "        x = int(input(\"Please enter an integer: \"))\n",
    "        if x < 0:\n",
    "            print('Less than zero')\n",
    "        elif x == 0:\n",
    "            print('Zero')\n",
    "        elif x > 0:\n",
    "            print('Greater than zero')\n",
    "\n",
    "        print(\"x = \", x)\n",
    "\n",
    "    except ValueError as e:\n",
    "        print('It\\'s something else...', e)\n",
    "        break"
   ]
  },
  {
   "cell_type": "markdown",
   "metadata": {},
   "source": [
    "This example uses `if` as a statement. For more than one condition, __`elif`__ instead of \"else if\" is used. `elif` is optional and can appear zero or as many times as needed.\n",
    "\n",
    "## 8.1.2 [Conditional expression](https://docs.python.org/3.5/reference/expressions.html#conditional-expressions):"
   ]
  },
  {
   "cell_type": "code",
   "execution_count": 3,
   "metadata": {
    "collapsed": false
   },
   "outputs": [
    {
     "name": "stdout",
     "output_type": "stream",
     "text": [
      "Meow!\n"
     ]
    }
   ],
   "source": [
    "cat = [1]\n",
    "print(\"Meow!\") if cat else print(\"Mouse will play!\")"
   ]
  },
  {
   "cell_type": "markdown",
   "metadata": {},
   "source": [
    "This syntax is more commonly known in other languages as a \"ternary operation\" (there's no `?` operator in this case).\n",
    "\n",
    "There are other places where you can find the `if` keyword but for now, it's enough to know how to incorporate conditional logic in your code.\n",
    "\n",
    "## 8.2 [Truth Value Testing](https://docs.python.org/3.5/library/stdtypes.html#truth-value-testing)\n",
    "\n",
    "Be aware that when checking for value, Python's various types have values equivalent to being _Falsy_:\n",
    "\n",
    "> Any object can be tested for truth value, for use in an if or while condition or as operand of the Boolean operations below. The following values are considered false:\n",
    "\n",
    "> * None\n",
    "> * False\n",
    "> * zero of any numeric type, for example, 0, 0.0, 0j.\n",
    "> * any empty sequence, for example, '', (), [].\n",
    "> * any empty mapping, for example, {}.\n",
    "> * instances of user-defined classes, if the class defines a `__bool__`() or `__len__`() method, when that method returns the integer zero or bool value False.\n",
    "\n",
    "> All other values are considered true — so objects of many types are always true.\n",
    "\n",
    "> Operations and built-in functions that have a Boolean result always return 0 or False for false and 1 or True for true, unless otherwise stated. (Important exception: the Boolean operations or and and always return one of their operands.)\n",
    "\n",
    "Keep in mind that Truth Value Testing is not the same as comparing the value to __`True`__ or __`False`__. Truth value is tested not when `a_variable == True` but when a conditional statement evaluates it as truthy.\n",
    "\n",
    "None of the following are truthy:"
   ]
  },
  {
   "cell_type": "code",
   "execution_count": 4,
   "metadata": {
    "collapsed": false
   },
   "outputs": [
    {
     "name": "stdout",
     "output_type": "stream",
     "text": [
      "0 is Falsy\n",
      " is Falsy\n",
      "[] is Falsy\n",
      "() is Falsy\n",
      "{} is Falsy\n",
      "False is Falsy\n",
      "None is Falsy\n"
     ]
    }
   ],
   "source": [
    "falsies = [\n",
    "    0,\n",
    "    '',\n",
    "    [],\n",
    "    (),\n",
    "    {},\n",
    "    False,\n",
    "    None,\n",
    "]\n",
    "\n",
    "for falsy_variable in falsies:\n",
    "    if falsy_variable:\n",
    "        print(\"{} is Truthy\".format(falsy_variable))\n",
    "    else:\n",
    "        print(\"{} is Falsy\".format(falsy_variable))"
   ]
  },
  {
   "cell_type": "markdown",
   "metadata": {},
   "source": [
    "How does one check for zero, empty lists/tuples/sets/dictionaries and False?\n",
    "\n",
    "use __`is not None:`__"
   ]
  },
  {
   "cell_type": "code",
   "execution_count": 5,
   "metadata": {
    "collapsed": false
   },
   "outputs": [
    {
     "name": "stdout",
     "output_type": "stream",
     "text": [
      "Meow!\n"
     ]
    }
   ],
   "source": [
    "cat = []\n",
    "print(\"Meow!\") if cat is not None else print(\"Mouse will play!\")"
   ]
  },
  {
   "cell_type": "markdown",
   "metadata": {},
   "source": [
    "The first statement, __`if cat`__, evaluates as _truthy_ when the value of cat is none of the mentioned _falsy_ values.\n",
    "\n",
    "The second statement compares against Python's constant `None`, specifically, the value of __`if cat is not None`__. For as long as the __variable has a value__ and the __value is not `None`__, the statement will evaluate as _truthy_ even if the value is 0, False, or empty iterables.\n",
    "\n",
    "## 8.3 [Boolean Operations — and, or, not](https://docs.python.org/3.5/library/stdtypes.html#boolean-operations-and-or-not)\n",
    "\n",
    "These are the Boolean operations, ordered by ascending priority:\n",
    "\n",
    "| Operation | Result | Notes |\n",
    "|-----------|--------|-------|\n",
    "|x or y | if x is false, then y, else x | Short-circuit operator, only evaluates the second argument if the first one is False.\n",
    "|x and y | if x is false, then x, else y | Short-circuit operator, only evaluates the second argument if the first one is True.\n",
    "|not x | if x is false, then True, else False | lower priority than non-Boolean operators, `not a == b` is interpreted as `not (a == b)`, and `a == not b` is a syntax error."
   ]
  },
  {
   "cell_type": "code",
   "execution_count": 6,
   "metadata": {
    "collapsed": false
   },
   "outputs": [
    {
     "data": {
      "text/plain": [
       "True"
      ]
     },
     "execution_count": 6,
     "metadata": {},
     "output_type": "execute_result"
    }
   ],
   "source": [
    "True or False"
   ]
  },
  {
   "cell_type": "code",
   "execution_count": 7,
   "metadata": {
    "collapsed": false
   },
   "outputs": [
    {
     "data": {
      "text/plain": [
       "True"
      ]
     },
     "execution_count": 7,
     "metadata": {},
     "output_type": "execute_result"
    }
   ],
   "source": [
    "False or True"
   ]
  },
  {
   "cell_type": "code",
   "execution_count": 8,
   "metadata": {
    "collapsed": false
   },
   "outputs": [
    {
     "data": {
      "text/plain": [
       "False"
      ]
     },
     "execution_count": 8,
     "metadata": {},
     "output_type": "execute_result"
    }
   ],
   "source": [
    "True and False"
   ]
  },
  {
   "cell_type": "code",
   "execution_count": 9,
   "metadata": {
    "collapsed": false
   },
   "outputs": [
    {
     "data": {
      "text/plain": [
       "False"
      ]
     },
     "execution_count": 9,
     "metadata": {},
     "output_type": "execute_result"
    }
   ],
   "source": [
    "False and True"
   ]
  },
  {
   "cell_type": "code",
   "execution_count": 10,
   "metadata": {
    "collapsed": false
   },
   "outputs": [
    {
     "data": {
      "text/plain": [
       "True"
      ]
     },
     "execution_count": 10,
     "metadata": {},
     "output_type": "execute_result"
    }
   ],
   "source": [
    "not False"
   ]
  },
  {
   "cell_type": "code",
   "execution_count": 11,
   "metadata": {
    "collapsed": false
   },
   "outputs": [
    {
     "data": {
      "text/plain": [
       "False"
      ]
     },
     "execution_count": 11,
     "metadata": {},
     "output_type": "execute_result"
    }
   ],
   "source": [
    "not True"
   ]
  },
  {
   "cell_type": "markdown",
   "metadata": {},
   "source": [
    "## 8.4 `==` vs `is`, and [`None`](https://docs.python.org/3.5/library/constants.html#None)\n",
    "\n",
    "`==` checks for value equality.\n",
    "\n",
    "`is` checks for reference equality.\n",
    "\n",
    "Python's `None` is a constant singleton. New instances can't be created. It is a type on it's own - `NoneType` and we can't modify it in any way, for example, by adding or changing attributes or by assigning a new value to `None`.\n",
    "\n",
    "Checking the reference to `None` using `is` works because there is always only one `None` instance."
   ]
  },
  {
   "cell_type": "code",
   "execution_count": 12,
   "metadata": {
    "collapsed": false
   },
   "outputs": [
    {
     "data": {
      "text/plain": [
       "False"
      ]
     },
     "execution_count": 12,
     "metadata": {},
     "output_type": "execute_result"
    }
   ],
   "source": [
    "0 is '' is [] is () is {} is False is None  # false, they don't have the same identity"
   ]
  },
  {
   "cell_type": "code",
   "execution_count": 13,
   "metadata": {
    "collapsed": false
   },
   "outputs": [
    {
     "data": {
      "text/plain": [
       "False"
      ]
     },
     "execution_count": 13,
     "metadata": {},
     "output_type": "execute_result"
    }
   ],
   "source": [
    "0 == '' == [] == () == {} == False == None  # false, they don't have the same value"
   ]
  },
  {
   "cell_type": "code",
   "execution_count": 14,
   "metadata": {
    "collapsed": false
   },
   "outputs": [
    {
     "data": {
      "text/plain": [
       "True"
      ]
     },
     "execution_count": 14,
     "metadata": {},
     "output_type": "execute_result"
    }
   ],
   "source": [
    "(not 0) is (not '') is (not []) is (not ()) is (not {}) is (not False) is (not None)  # true, they are all falsy"
   ]
  },
  {
   "cell_type": "code",
   "execution_count": 15,
   "metadata": {
    "collapsed": false
   },
   "outputs": [
    {
     "data": {
      "text/plain": [
       "True"
      ]
     },
     "execution_count": 15,
     "metadata": {},
     "output_type": "execute_result"
    }
   ],
   "source": [
    "(not 0) == (not '') == (not []) == (not ()) == (not {}) == (not False) == (not None)  # true, all falsies are equal"
   ]
  },
  {
   "cell_type": "code",
   "execution_count": null,
   "metadata": {
    "collapsed": true
   },
   "outputs": [],
   "source": []
  }
 ],
 "metadata": {
  "kernelspec": {
   "display_name": "Python 3",
   "language": "python",
   "name": "python3"
  },
  "language_info": {
   "codemirror_mode": {
    "name": "ipython",
    "version": 3
   },
   "file_extension": ".py",
   "mimetype": "text/x-python",
   "name": "python",
   "nbconvert_exporter": "python",
   "pygments_lexer": "ipython3",
   "version": "3.4.4"
  }
 },
 "nbformat": 4,
 "nbformat_minor": 0
}
