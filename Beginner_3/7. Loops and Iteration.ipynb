{
 "cells": [
  {
   "cell_type": "markdown",
   "metadata": {},
   "source": [
    "## 7.1 [While](https://docs.python.org/3.5/reference/compound_stmts.html#while)\n",
    "\n",
    "The `while` statement will loop for as long as the condition is true."
   ]
  },
  {
   "cell_type": "code",
   "execution_count": 1,
   "metadata": {
    "collapsed": false
   },
   "outputs": [
    {
     "name": "stdout",
     "output_type": "stream",
     "text": [
      "x > 0: 3\n",
      "x > 0: 2\n",
      "x > 0: 1\n"
     ]
    }
   ],
   "source": [
    "x = 3\n",
    "while x > 0:\n",
    "    print(\"x > 0:\", x)\n",
    "    x -= 1"
   ]
  },
  {
   "cell_type": "markdown",
   "metadata": {},
   "source": [
    "As you finish coding a while loop, it is good practice to always double-check: Did I make a change to the variables, inside the loop, that will eventually make the loop condition False?"
   ]
  },
  {
   "cell_type": "code",
   "execution_count": 2,
   "metadata": {
    "collapsed": false
   },
   "outputs": [
    {
     "name": "stdout",
     "output_type": "stream",
     "text": [
      "everything nice\n",
      "spice\n",
      "sugar\n"
     ]
    }
   ],
   "source": [
    "ingredients = [\n",
    "    'sugar',\n",
    "    'spice',\n",
    "    'everything nice',\n",
    "]\n",
    "while ingredients:\n",
    "    pop = ingredients.pop()\n",
    "    print(pop)"
   ]
  },
  {
   "cell_type": "markdown",
   "metadata": {},
   "source": [
    "## 7.2 [For](https://docs.python.org/3.5/tutorial/controlflow.html#for-statements)\n",
    "\n",
    "The `for` statement sequentially iterates over a list, string, set or any iterable."
   ]
  },
  {
   "cell_type": "code",
   "execution_count": 3,
   "metadata": {
    "collapsed": false
   },
   "outputs": [
    {
     "name": "stdout",
     "output_type": "stream",
     "text": [
      "iOS 3\n",
      "Android 7\n",
      "Firefox OS 10\n"
     ]
    }
   ],
   "source": [
    "mobile_os = ['iOS', 'Android', 'Firefox OS']\n",
    "\n",
    "for m in mobile_os:   # This loops through the mobile_os list\n",
    "    print(m, len(m))  # With each member stored in a temporary variable - m"
   ]
  },
  {
   "cell_type": "markdown",
   "metadata": {},
   "source": [
    "### 7.2.1 [range()](https://docs.python.org/3.5/library/stdtypes.html#range)\n",
    "\n",
    "If you need to iterate over a sequence of numbers, the built-in function `range()` can generate arithmetic progressions:"
   ]
  },
  {
   "cell_type": "code",
   "execution_count": 4,
   "metadata": {
    "collapsed": false
   },
   "outputs": [
    {
     "name": "stdout",
     "output_type": "stream",
     "text": [
      "0\n",
      "1\n",
      "2\n",
      "3\n",
      "4\n"
     ]
    }
   ],
   "source": [
    "for i in range(5):\n",
    "    print(i)"
   ]
  },
  {
   "cell_type": "markdown",
   "metadata": {},
   "source": [
    "`range()` can accept multiple parameters. The default required parameter is the `stop` argument. It can optionally accept `start` and `step` parameters to have more control over the range of numbers generated. Ex. range(start, stop, [step]).\n",
    "\n",
    "- In Python 3.x, `range()` returns a `range` object that is a generator\n",
    "\n",
    "- In Python 2.x, it returned a `list`"
   ]
  },
  {
   "cell_type": "code",
   "execution_count": 5,
   "metadata": {
    "collapsed": false
   },
   "outputs": [
    {
     "data": {
      "text/plain": [
       "[5, 6, 7, 8, 9]"
      ]
     },
     "execution_count": 5,
     "metadata": {},
     "output_type": "execute_result"
    }
   ],
   "source": [
    "list(range(5, 10))"
   ]
  },
  {
   "cell_type": "code",
   "execution_count": 6,
   "metadata": {
    "collapsed": false
   },
   "outputs": [
    {
     "data": {
      "text/plain": [
       "[5, 8, 11, 14]"
      ]
     },
     "execution_count": 6,
     "metadata": {},
     "output_type": "execute_result"
    }
   ],
   "source": [
    "list(range(5, 15, 3))"
   ]
  },
  {
   "cell_type": "code",
   "execution_count": 7,
   "metadata": {
    "collapsed": false
   },
   "outputs": [
    {
     "data": {
      "text/plain": [
       "[7, 5, 3, 1, -1, -3, -5]"
      ]
     },
     "execution_count": 7,
     "metadata": {},
     "output_type": "execute_result"
    }
   ],
   "source": [
    "list(range(7, -7, -2))"
   ]
  },
  {
   "cell_type": "markdown",
   "metadata": {},
   "source": [
    "### 7.2.2 [enumerate()](https://docs.python.org/3.5/library/functions.html#enumerate)\n",
    "\n",
    "When looping through a sequence, the position index and corresponding value can be retrieved at the same time using the `enumerate()` function."
   ]
  },
  {
   "cell_type": "code",
   "execution_count": 8,
   "metadata": {
    "collapsed": false
   },
   "outputs": [
    {
     "name": "stdout",
     "output_type": "stream",
     "text": [
      "0 tic\n",
      "1 tac\n",
      "2 toe\n"
     ]
    }
   ],
   "source": [
    "for index, value in enumerate(['tic', 'tac', 'toe']):\n",
    "    print(index, value)"
   ]
  },
  {
   "cell_type": "markdown",
   "metadata": {},
   "source": [
    "## 7.3 [Loop Control](https://docs.python.org/3.5/tutorial/controlflow.html#break-and-continue-statements-and-else-clauses-on-loops)\n",
    "\n",
    "The `continue` and `break` statements let you have more control over looping behavior."
   ]
  },
  {
   "cell_type": "markdown",
   "metadata": {},
   "source": [
    "### 7.3.1 Continue\n",
    "\n",
    "With `continue`, _the current iteration_ will no longer proceed and continues with the next iteration."
   ]
  },
  {
   "cell_type": "code",
   "execution_count": 9,
   "metadata": {
    "collapsed": false
   },
   "outputs": [
    {
     "name": "stdout",
     "output_type": "stream",
     "text": [
      "Found an even number 2\n",
      "Found a number 3\n",
      "Found an even number 4\n",
      "Found a number 5\n",
      "Found an even number 6\n"
     ]
    }
   ],
   "source": [
    "for num in range(2, 7):\n",
    "    if num % 2 == 0:\n",
    "        print(\"Found an even number\", num)\n",
    "        continue  # If an even number is found, the next line will not run \n",
    "    print(\"Found a number\", num)"
   ]
  },
  {
   "cell_type": "markdown",
   "metadata": {},
   "source": [
    "### 7.3.2 Break\n",
    "\n",
    "With `break`, the loops stops and _the rest of the iterations_ will no longer proceed."
   ]
  },
  {
   "cell_type": "code",
   "execution_count": 10,
   "metadata": {
    "collapsed": false
   },
   "outputs": [
    {
     "name": "stdout",
     "output_type": "stream",
     "text": [
      "Found an even number 2\n"
     ]
    }
   ],
   "source": [
    "for num in range(2, 10):\n",
    "    if num % 2 == 0:\n",
    "        print(\"Found an even number\", num)\n",
    "        break  # This stops the whole loop\n",
    "    print(\"Found a number\", num)"
   ]
  },
  {
   "cell_type": "markdown",
   "metadata": {},
   "source": [
    "## 7.4 [Else](https://docs.python.org/3.5/tutorial/controlflow.html#break-and-continue-statements-and-else-clauses-on-loops)\n",
    "\n",
    "Loop statements may have an else clause which execute when the loop is not terminated by a break statement."
   ]
  },
  {
   "cell_type": "markdown",
   "metadata": {},
   "source": [
    "With `for`, it is executed when the loop terminates through exhaustion of the list."
   ]
  },
  {
   "cell_type": "code",
   "execution_count": 11,
   "metadata": {
    "collapsed": false
   },
   "outputs": [
    {
     "name": "stdout",
     "output_type": "stream",
     "text": [
      "2 is a prime number\n",
      "3 is a prime number\n",
      "4 equals 2 * 2\n",
      "5 is a prime number\n",
      "6 equals 2 * 3\n"
     ]
    }
   ],
   "source": [
    "for n in range(2, 7):\n",
    "    for x in range(2, n):\n",
    "        if n % x == 0:\n",
    "            print(n, 'equals', x, '*', n//x)\n",
    "            \"\"\"\n",
    "            We only need to know if there is one occurence of the number being divisible by a number between it and 2\n",
    "            \"\"\"\n",
    "            break\n",
    "    else:\n",
    "        # loop fell through without finding a factor\n",
    "        print(n, 'is a prime number')"
   ]
  },
  {
   "cell_type": "markdown",
   "metadata": {},
   "source": [
    "With `while`, it is executed when the condition becomes false."
   ]
  },
  {
   "cell_type": "code",
   "execution_count": 12,
   "metadata": {
    "collapsed": false
   },
   "outputs": [
    {
     "name": "stdout",
     "output_type": "stream",
     "text": [
      "x > 0: 3\n",
      "x > 0: 2\n",
      "x > 0: 1\n",
      "else: 0\n"
     ]
    }
   ],
   "source": [
    "x = 3\n",
    "while x > 0:\n",
    "    print(\"x > 0:\", x)\n",
    "    x -= 1\n",
    "else:\n",
    "    print(\"else:\", x)"
   ]
  },
  {
   "cell_type": "code",
   "execution_count": null,
   "metadata": {
    "collapsed": true
   },
   "outputs": [],
   "source": []
  }
 ],
 "metadata": {
  "kernelspec": {
   "display_name": "Python 3",
   "language": "python",
   "name": "python3"
  },
  "language_info": {
   "codemirror_mode": {
    "name": "ipython",
    "version": 3
   },
   "file_extension": ".py",
   "mimetype": "text/x-python",
   "name": "python",
   "nbconvert_exporter": "python",
   "pygments_lexer": "ipython3",
   "version": "3.4.4"
  }
 },
 "nbformat": 4,
 "nbformat_minor": 0
}
